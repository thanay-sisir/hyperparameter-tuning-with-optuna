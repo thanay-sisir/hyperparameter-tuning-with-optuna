{
  "nbformat": 4,
  "nbformat_minor": 0,
  "metadata": {
    "colab": {
      "provenance": []
    },
    "kernelspec": {
      "name": "python3",
      "display_name": "Python 3"
    },
    "language_info": {
      "name": "python"
    }
  },
  "cells": [
    {
      "cell_type": "code",
      "execution_count": 4,
      "metadata": {
        "colab": {
          "base_uri": "https://localhost:8080/"
        },
        "id": "epanqzQ8beVy",
        "outputId": "cf7a85f1-5f15-4a8b-d869-950daea0c781"
      },
      "outputs": [
        {
          "output_type": "stream",
          "name": "stdout",
          "text": [
            "Requirement already satisfied: optuna in /usr/local/lib/python3.11/dist-packages (4.1.0)\n",
            "Requirement already satisfied: alembic>=1.5.0 in /usr/local/lib/python3.11/dist-packages (from optuna) (1.14.0)\n",
            "Requirement already satisfied: colorlog in /usr/local/lib/python3.11/dist-packages (from optuna) (6.9.0)\n",
            "Requirement already satisfied: numpy in /usr/local/lib/python3.11/dist-packages (from optuna) (1.26.4)\n",
            "Requirement already satisfied: packaging>=20.0 in /usr/local/lib/python3.11/dist-packages (from optuna) (24.2)\n",
            "Requirement already satisfied: sqlalchemy>=1.4.2 in /usr/local/lib/python3.11/dist-packages (from optuna) (2.0.37)\n",
            "Requirement already satisfied: tqdm in /usr/local/lib/python3.11/dist-packages (from optuna) (4.67.1)\n",
            "Requirement already satisfied: PyYAML in /usr/local/lib/python3.11/dist-packages (from optuna) (6.0.2)\n",
            "Requirement already satisfied: Mako in /usr/local/lib/python3.11/dist-packages (from alembic>=1.5.0->optuna) (1.3.8)\n",
            "Requirement already satisfied: typing-extensions>=4 in /usr/local/lib/python3.11/dist-packages (from alembic>=1.5.0->optuna) (4.12.2)\n",
            "Requirement already satisfied: greenlet!=0.4.17 in /usr/local/lib/python3.11/dist-packages (from sqlalchemy>=1.4.2->optuna) (3.1.1)\n",
            "Requirement already satisfied: MarkupSafe>=0.9.2 in /usr/local/lib/python3.11/dist-packages (from Mako->alembic>=1.5.0->optuna) (3.0.2)\n"
          ]
        },
        {
          "output_type": "stream",
          "name": "stderr",
          "text": [
            "[I 2025-01-18 08:21:34,084] A new study created in memory with name: no-name-c20fdb6e-a30f-45fc-8046-458be23ff83a\n"
          ]
        },
        {
          "output_type": "stream",
          "name": "stdout",
          "text": [
            "MAE: 0.2591818181818008\n",
            "MSE: 0.10222285454545255\n",
            "R2: 0.9910447583779421\n"
          ]
        },
        {
          "output_type": "stream",
          "name": "stderr",
          "text": [
            "[I 2025-01-18 08:21:38,787] Trial 0 finished with value: -4.502017696233201 and parameters: {'n_estimators': 437, 'max_depth': 48, 'min_samples_split': 24, 'min_samples_leaf': 20}. Best is trial 0 with value: -4.502017696233201.\n",
            "[I 2025-01-18 08:21:40,888] Trial 1 finished with value: -5.17020291237105 and parameters: {'n_estimators': 240, 'max_depth': 16, 'min_samples_split': 3, 'min_samples_leaf': 28}. Best is trial 0 with value: -4.502017696233201.\n",
            "[I 2025-01-18 08:21:46,473] Trial 2 finished with value: -5.6033026031825175 and parameters: {'n_estimators': 641, 'max_depth': 39, 'min_samples_split': 2, 'min_samples_leaf': 32}. Best is trial 0 with value: -4.502017696233201.\n",
            "[I 2025-01-18 08:21:51,794] Trial 3 finished with value: -2.997774315886926 and parameters: {'n_estimators': 850, 'max_depth': 18, 'min_samples_split': 7, 'min_samples_leaf': 6}. Best is trial 3 with value: -2.997774315886926.\n",
            "[I 2025-01-18 08:21:54,093] Trial 4 finished with value: -3.8149133428323845 and parameters: {'n_estimators': 374, 'max_depth': 31, 'min_samples_split': 15, 'min_samples_leaf': 10}. Best is trial 3 with value: -2.997774315886926.\n",
            "[I 2025-01-18 08:22:00,075] Trial 5 finished with value: -3.8580312892840105 and parameters: {'n_estimators': 651, 'max_depth': 15, 'min_samples_split': 11, 'min_samples_leaf': 12}. Best is trial 3 with value: -2.997774315886926.\n",
            "[I 2025-01-18 08:22:05,690] Trial 6 finished with value: -4.079827568772584 and parameters: {'n_estimators': 510, 'max_depth': 42, 'min_samples_split': 8, 'min_samples_leaf': 17}. Best is trial 3 with value: -2.997774315886926.\n",
            "[I 2025-01-18 08:22:09,663] Trial 7 finished with value: -3.2684195666591926 and parameters: {'n_estimators': 633, 'max_depth': 11, 'min_samples_split': 20, 'min_samples_leaf': 6}. Best is trial 3 with value: -2.997774315886926.\n",
            "[I 2025-01-18 08:22:10,665] Trial 8 finished with value: -5.070542477746006 and parameters: {'n_estimators': 158, 'max_depth': 48, 'min_samples_split': 31, 'min_samples_leaf': 26}. Best is trial 3 with value: -2.997774315886926.\n",
            "[I 2025-01-18 08:22:12,922] Trial 9 finished with value: -3.8928421945052785 and parameters: {'n_estimators': 374, 'max_depth': 14, 'min_samples_split': 23, 'min_samples_leaf': 15}. Best is trial 3 with value: -2.997774315886926.\n",
            "[I 2025-01-18 08:22:14,981] Trial 10 finished with value: -5.366142141734764 and parameters: {'n_estimators': 209, 'max_depth': 30, 'min_samples_split': 3, 'min_samples_leaf': 30}. Best is trial 3 with value: -2.997774315886926.\n",
            "[I 2025-01-18 08:22:18,433] Trial 11 finished with value: -4.071381725597152 and parameters: {'n_estimators': 333, 'max_depth': 37, 'min_samples_split': 11, 'min_samples_leaf': 17}. Best is trial 3 with value: -2.997774315886926.\n",
            "[I 2025-01-18 08:22:21,865] Trial 12 finished with value: -4.97881072662228 and parameters: {'n_estimators': 592, 'max_depth': 17, 'min_samples_split': 32, 'min_samples_leaf': 25}. Best is trial 3 with value: -2.997774315886926.\n",
            "[I 2025-01-18 08:22:27,337] Trial 13 finished with value: -5.330345386071027 and parameters: {'n_estimators': 946, 'max_depth': 46, 'min_samples_split': 20, 'min_samples_leaf': 30}. Best is trial 3 with value: -2.997774315886926.\n",
            "[I 2025-01-18 08:22:28,573] Trial 14 finished with value: -3.855111242647284 and parameters: {'n_estimators': 179, 'max_depth': 18, 'min_samples_split': 3, 'min_samples_leaf': 11}. Best is trial 3 with value: -2.997774315886926.\n",
            "[I 2025-01-18 08:22:33,398] Trial 15 finished with value: -3.8725248005621937 and parameters: {'n_estimators': 450, 'max_depth': 21, 'min_samples_split': 27, 'min_samples_leaf': 12}. Best is trial 3 with value: -2.997774315886926.\n",
            "[I 2025-01-18 08:22:35,598] Trial 16 finished with value: -5.023021525493145 and parameters: {'n_estimators': 353, 'max_depth': 32, 'min_samples_split': 6, 'min_samples_leaf': 26}. Best is trial 3 with value: -2.997774315886926.\n",
            "[I 2025-01-18 08:22:36,656] Trial 17 finished with value: -3.354999151404688 and parameters: {'n_estimators': 167, 'max_depth': 50, 'min_samples_split': 25, 'min_samples_leaf': 7}. Best is trial 3 with value: -2.997774315886926.\n",
            "[I 2025-01-18 08:22:37,316] Trial 18 finished with value: -5.032966231226029 and parameters: {'n_estimators': 104, 'max_depth': 43, 'min_samples_split': 23, 'min_samples_leaf': 24}. Best is trial 3 with value: -2.997774315886926.\n",
            "[I 2025-01-18 08:22:42,357] Trial 19 finished with value: -2.6910895922904827 and parameters: {'n_estimators': 794, 'max_depth': 13, 'min_samples_split': 13, 'min_samples_leaf': 4}. Best is trial 19 with value: -2.6910895922904827.\n",
            "[I 2025-01-18 08:22:50,224] Trial 20 finished with value: -2.518166393121486 and parameters: {'n_estimators': 877, 'max_depth': 35, 'min_samples_split': 12, 'min_samples_leaf': 3}. Best is trial 20 with value: -2.518166393121486.\n",
            "[I 2025-01-18 08:22:52,456] Trial 21 finished with value: -4.651434149748537 and parameters: {'n_estimators': 380, 'max_depth': 23, 'min_samples_split': 24, 'min_samples_leaf': 21}. Best is trial 20 with value: -2.518166393121486.\n",
            "[I 2025-01-18 08:22:57,672] Trial 22 finished with value: -4.909396350077957 and parameters: {'n_estimators': 899, 'max_depth': 29, 'min_samples_split': 5, 'min_samples_leaf': 23}. Best is trial 20 with value: -2.518166393121486.\n",
            "[I 2025-01-18 08:23:04,412] Trial 23 finished with value: -3.9805040929366946 and parameters: {'n_estimators': 785, 'max_depth': 33, 'min_samples_split': 25, 'min_samples_leaf': 16}. Best is trial 20 with value: -2.518166393121486.\n",
            "[I 2025-01-18 08:23:08,232] Trial 24 finished with value: -2.377674335794426 and parameters: {'n_estimators': 570, 'max_depth': 27, 'min_samples_split': 2, 'min_samples_leaf': 4}. Best is trial 24 with value: -2.377674335794426.\n",
            "[I 2025-01-18 08:23:09,042] Trial 25 finished with value: -4.082595787879278 and parameters: {'n_estimators': 128, 'max_depth': 36, 'min_samples_split': 11, 'min_samples_leaf': 17}. Best is trial 24 with value: -2.377674335794426.\n",
            "[I 2025-01-18 08:23:14,401] Trial 26 finished with value: -5.023139006634244 and parameters: {'n_estimators': 917, 'max_depth': 20, 'min_samples_split': 14, 'min_samples_leaf': 25}. Best is trial 24 with value: -2.377674335794426.\n",
            "[I 2025-01-18 08:23:17,351] Trial 27 finished with value: -2.9909897036757305 and parameters: {'n_estimators': 306, 'max_depth': 13, 'min_samples_split': 10, 'min_samples_leaf': 6}. Best is trial 24 with value: -2.377674335794426.\n",
            "[I 2025-01-18 08:23:24,164] Trial 28 finished with value: -5.146011624416547 and parameters: {'n_estimators': 937, 'max_depth': 43, 'min_samples_split': 21, 'min_samples_leaf': 28}. Best is trial 24 with value: -2.377674335794426.\n",
            "[I 2025-01-18 08:23:28,997] Trial 29 finished with value: -4.205092803371553 and parameters: {'n_estimators': 824, 'max_depth': 17, 'min_samples_split': 29, 'min_samples_leaf': 18}. Best is trial 24 with value: -2.377674335794426.\n",
            "[I 2025-01-18 08:23:36,534] Trial 30 finished with value: -2.5641578490779633 and parameters: {'n_estimators': 827, 'max_depth': 46, 'min_samples_split': 11, 'min_samples_leaf': 4}. Best is trial 24 with value: -2.377674335794426.\n",
            "[I 2025-01-18 08:23:38,349] Trial 31 finished with value: -5.138142358138588 and parameters: {'n_estimators': 305, 'max_depth': 27, 'min_samples_split': 27, 'min_samples_leaf': 28}. Best is trial 24 with value: -2.377674335794426.\n",
            "[I 2025-01-18 08:23:39,060] Trial 32 finished with value: -3.5114434389616624 and parameters: {'n_estimators': 106, 'max_depth': 30, 'min_samples_split': 14, 'min_samples_leaf': 8}. Best is trial 24 with value: -2.377674335794426.\n",
            "[I 2025-01-18 08:23:40,330] Trial 33 finished with value: -3.885234534214226 and parameters: {'n_estimators': 207, 'max_depth': 23, 'min_samples_split': 31, 'min_samples_leaf': 11}. Best is trial 24 with value: -2.377674335794426.\n",
            "[I 2025-01-18 08:23:43,633] Trial 34 finished with value: -5.623093272447841 and parameters: {'n_estimators': 567, 'max_depth': 38, 'min_samples_split': 13, 'min_samples_leaf': 32}. Best is trial 24 with value: -2.377674335794426.\n",
            "[I 2025-01-18 08:23:51,827] Trial 35 finished with value: -3.8244998920662048 and parameters: {'n_estimators': 967, 'max_depth': 20, 'min_samples_split': 17, 'min_samples_leaf': 10}. Best is trial 24 with value: -2.377674335794426.\n",
            "[I 2025-01-18 08:23:53,963] Trial 36 finished with value: -4.045756541588638 and parameters: {'n_estimators': 356, 'max_depth': 11, 'min_samples_split': 20, 'min_samples_leaf': 17}. Best is trial 24 with value: -2.377674335794426.\n",
            "[I 2025-01-18 08:23:54,876] Trial 37 finished with value: -3.781664320930647 and parameters: {'n_estimators': 146, 'max_depth': 21, 'min_samples_split': 30, 'min_samples_leaf': 8}. Best is trial 24 with value: -2.377674335794426.\n",
            "[I 2025-01-18 08:23:56,278] Trial 38 finished with value: -3.8143436832193927 and parameters: {'n_estimators': 230, 'max_depth': 30, 'min_samples_split': 32, 'min_samples_leaf': 8}. Best is trial 24 with value: -2.377674335794426.\n",
            "[I 2025-01-18 08:24:00,352] Trial 39 finished with value: -4.924004816700357 and parameters: {'n_estimators': 705, 'max_depth': 41, 'min_samples_split': 9, 'min_samples_leaf': 24}. Best is trial 24 with value: -2.377674335794426.\n",
            "[I 2025-01-18 08:24:03,909] Trial 40 finished with value: -4.228264898119876 and parameters: {'n_estimators': 431, 'max_depth': 35, 'min_samples_split': 21, 'min_samples_leaf': 18}. Best is trial 24 with value: -2.377674335794426.\n",
            "[I 2025-01-18 08:24:06,010] Trial 41 finished with value: -3.021405255977505 and parameters: {'n_estimators': 181, 'max_depth': 44, 'min_samples_split': 11, 'min_samples_leaf': 6}. Best is trial 24 with value: -2.377674335794426.\n",
            "[I 2025-01-18 08:24:07,131] Trial 42 finished with value: -3.2598199908027636 and parameters: {'n_estimators': 136, 'max_depth': 34, 'min_samples_split': 23, 'min_samples_leaf': 1}. Best is trial 24 with value: -2.377674335794426.\n",
            "[I 2025-01-18 08:24:10,571] Trial 43 finished with value: -3.3043477158923773 and parameters: {'n_estimators': 561, 'max_depth': 19, 'min_samples_split': 22, 'min_samples_leaf': 6}. Best is trial 24 with value: -2.377674335794426.\n",
            "[I 2025-01-18 08:24:14,950] Trial 44 finished with value: -3.4849109018323077 and parameters: {'n_estimators': 722, 'max_depth': 25, 'min_samples_split': 31, 'min_samples_leaf': 5}. Best is trial 24 with value: -2.377674335794426.\n",
            "[I 2025-01-18 08:24:17,712] Trial 45 finished with value: -5.254188404029544 and parameters: {'n_estimators': 407, 'max_depth': 14, 'min_samples_split': 30, 'min_samples_leaf': 29}. Best is trial 24 with value: -2.377674335794426.\n",
            "[I 2025-01-18 08:24:20,973] Trial 46 finished with value: -4.165453431670454 and parameters: {'n_estimators': 332, 'max_depth': 37, 'min_samples_split': 27, 'min_samples_leaf': 18}. Best is trial 24 with value: -2.377674335794426.\n",
            "[I 2025-01-18 08:24:24,581] Trial 47 finished with value: -5.203098189595531 and parameters: {'n_estimators': 577, 'max_depth': 19, 'min_samples_split': 4, 'min_samples_leaf': 29}. Best is trial 24 with value: -2.377674335794426.\n",
            "[I 2025-01-18 08:24:30,023] Trial 48 finished with value: -3.8321859441357886 and parameters: {'n_estimators': 911, 'max_depth': 35, 'min_samples_split': 12, 'min_samples_leaf': 12}. Best is trial 24 with value: -2.377674335794426.\n",
            "[I 2025-01-18 08:24:36,428] Trial 49 finished with value: -5.026425012240428 and parameters: {'n_estimators': 754, 'max_depth': 46, 'min_samples_split': 29, 'min_samples_leaf': 25}. Best is trial 24 with value: -2.377674335794426.\n",
            "[I 2025-01-18 08:24:42,577] Trial 50 finished with value: -5.2867078052019965 and parameters: {'n_estimators': 678, 'max_depth': 13, 'min_samples_split': 7, 'min_samples_leaf': 29}. Best is trial 24 with value: -2.377674335794426.\n",
            "[I 2025-01-18 08:24:46,347] Trial 51 finished with value: -4.773833082912177 and parameters: {'n_estimators': 646, 'max_depth': 10, 'min_samples_split': 5, 'min_samples_leaf': 22}. Best is trial 24 with value: -2.377674335794426.\n",
            "[I 2025-01-18 08:24:46,984] Trial 52 finished with value: -4.840891454792421 and parameters: {'n_estimators': 104, 'max_depth': 16, 'min_samples_split': 19, 'min_samples_leaf': 23}. Best is trial 24 with value: -2.377674335794426.\n",
            "[I 2025-01-18 08:24:52,771] Trial 53 finished with value: -3.6268475184661417 and parameters: {'n_estimators': 687, 'max_depth': 19, 'min_samples_split': 24, 'min_samples_leaf': 8}. Best is trial 24 with value: -2.377674335794426.\n",
            "[I 2025-01-18 08:24:55,550] Trial 54 finished with value: -5.147688382646628 and parameters: {'n_estimators': 393, 'max_depth': 40, 'min_samples_split': 22, 'min_samples_leaf': 28}. Best is trial 24 with value: -2.377674335794426.\n",
            "[I 2025-01-18 08:24:59,700] Trial 55 finished with value: -3.794363426792272 and parameters: {'n_estimators': 692, 'max_depth': 33, 'min_samples_split': 4, 'min_samples_leaf': 12}. Best is trial 24 with value: -2.377674335794426.\n",
            "[I 2025-01-18 08:25:01,741] Trial 56 finished with value: -3.883901562606598 and parameters: {'n_estimators': 338, 'max_depth': 20, 'min_samples_split': 32, 'min_samples_leaf': 13}. Best is trial 24 with value: -2.377674335794426.\n",
            "[I 2025-01-18 08:25:09,423] Trial 57 finished with value: -4.04655707127566 and parameters: {'n_estimators': 903, 'max_depth': 35, 'min_samples_split': 26, 'min_samples_leaf': 17}. Best is trial 24 with value: -2.377674335794426.\n",
            "[I 2025-01-18 08:25:13,053] Trial 58 finished with value: -4.985396709051839 and parameters: {'n_estimators': 619, 'max_depth': 30, 'min_samples_split': 8, 'min_samples_leaf': 24}. Best is trial 24 with value: -2.377674335794426.\n",
            "[I 2025-01-18 08:25:15,243] Trial 59 finished with value: -3.2914060838819355 and parameters: {'n_estimators': 352, 'max_depth': 10, 'min_samples_split': 22, 'min_samples_leaf': 6}. Best is trial 24 with value: -2.377674335794426.\n",
            "[I 2025-01-18 08:25:21,914] Trial 60 finished with value: -3.8532944785226464 and parameters: {'n_estimators': 947, 'max_depth': 49, 'min_samples_split': 30, 'min_samples_leaf': 12}. Best is trial 24 with value: -2.377674335794426.\n",
            "[I 2025-01-18 08:25:23,090] Trial 61 finished with value: -5.554475153505855 and parameters: {'n_estimators': 113, 'max_depth': 48, 'min_samples_split': 15, 'min_samples_leaf': 31}. Best is trial 24 with value: -2.377674335794426.\n",
            "[I 2025-01-18 08:25:29,513] Trial 62 finished with value: -3.852698540988217 and parameters: {'n_estimators': 968, 'max_depth': 44, 'min_samples_split': 11, 'min_samples_leaf': 13}. Best is trial 24 with value: -2.377674335794426.\n",
            "[I 2025-01-18 08:25:34,704] Trial 63 finished with value: -4.182817965769625 and parameters: {'n_estimators': 866, 'max_depth': 22, 'min_samples_split': 7, 'min_samples_leaf': 18}. Best is trial 24 with value: -2.377674335794426.\n",
            "[I 2025-01-18 08:25:42,868] Trial 64 finished with value: -2.971525967818461 and parameters: {'n_estimators': 943, 'max_depth': 38, 'min_samples_split': 19, 'min_samples_leaf': 4}. Best is trial 24 with value: -2.377674335794426.\n",
            "[I 2025-01-18 08:25:46,731] Trial 65 finished with value: -4.097550904879603 and parameters: {'n_estimators': 654, 'max_depth': 50, 'min_samples_split': 6, 'min_samples_leaf': 17}. Best is trial 24 with value: -2.377674335794426.\n",
            "[I 2025-01-18 08:25:53,394] Trial 66 finished with value: -4.8860009653453025 and parameters: {'n_estimators': 890, 'max_depth': 40, 'min_samples_split': 23, 'min_samples_leaf': 23}. Best is trial 24 with value: -2.377674335794426.\n",
            "[I 2025-01-18 08:25:56,403] Trial 67 finished with value: -5.09938310528532 and parameters: {'n_estimators': 423, 'max_depth': 22, 'min_samples_split': 27, 'min_samples_leaf': 26}. Best is trial 24 with value: -2.377674335794426.\n",
            "[I 2025-01-18 08:26:01,585] Trial 68 finished with value: -4.044989343818268 and parameters: {'n_estimators': 881, 'max_depth': 47, 'min_samples_split': 17, 'min_samples_leaf': 17}. Best is trial 24 with value: -2.377674335794426.\n",
            "[I 2025-01-18 08:26:07,342] Trial 69 finished with value: -5.0572339178571095 and parameters: {'n_estimators': 819, 'max_depth': 36, 'min_samples_split': 23, 'min_samples_leaf': 26}. Best is trial 24 with value: -2.377674335794426.\n",
            "[I 2025-01-18 08:26:13,846] Trial 70 finished with value: -2.619866475663102 and parameters: {'n_estimators': 901, 'max_depth': 23, 'min_samples_split': 13, 'min_samples_leaf': 4}. Best is trial 24 with value: -2.377674335794426.\n",
            "[I 2025-01-18 08:26:17,527] Trial 71 finished with value: -4.220033117995157 and parameters: {'n_estimators': 621, 'max_depth': 11, 'min_samples_split': 16, 'min_samples_leaf': 18}. Best is trial 24 with value: -2.377674335794426.\n",
            "[I 2025-01-18 08:26:20,428] Trial 72 finished with value: -1.8641536739529108 and parameters: {'n_estimators': 358, 'max_depth': 34, 'min_samples_split': 2, 'min_samples_leaf': 2}. Best is trial 72 with value: -1.8641536739529108.\n",
            "[I 2025-01-18 08:26:27,104] Trial 73 finished with value: -4.07793850254852 and parameters: {'n_estimators': 841, 'max_depth': 24, 'min_samples_split': 5, 'min_samples_leaf': 17}. Best is trial 72 with value: -1.8641536739529108.\n",
            "[I 2025-01-18 08:26:31,968] Trial 74 finished with value: -3.072746324126943 and parameters: {'n_estimators': 793, 'max_depth': 18, 'min_samples_split': 21, 'min_samples_leaf': 3}. Best is trial 72 with value: -1.8641536739529108.\n",
            "[I 2025-01-18 08:26:32,869] Trial 75 finished with value: -4.5670416889085335 and parameters: {'n_estimators': 146, 'max_depth': 31, 'min_samples_split': 18, 'min_samples_leaf': 21}. Best is trial 72 with value: -1.8641536739529108.\n",
            "[I 2025-01-18 08:26:39,580] Trial 76 finished with value: -3.834168082246542 and parameters: {'n_estimators': 754, 'max_depth': 50, 'min_samples_split': 18, 'min_samples_leaf': 11}. Best is trial 72 with value: -1.8641536739529108.\n",
            "[I 2025-01-18 08:26:44,912] Trial 77 finished with value: -2.7155627687556034 and parameters: {'n_estimators': 816, 'max_depth': 21, 'min_samples_split': 15, 'min_samples_leaf': 3}. Best is trial 72 with value: -1.8641536739529108.\n",
            "[I 2025-01-18 08:26:45,648] Trial 78 finished with value: -4.8364374438326205 and parameters: {'n_estimators': 122, 'max_depth': 49, 'min_samples_split': 27, 'min_samples_leaf': 23}. Best is trial 72 with value: -1.8641536739529108.\n",
            "[I 2025-01-18 08:26:48,545] Trial 79 finished with value: -3.732613294612225 and parameters: {'n_estimators': 468, 'max_depth': 17, 'min_samples_split': 6, 'min_samples_leaf': 9}. Best is trial 72 with value: -1.8641536739529108.\n",
            "[I 2025-01-18 08:26:53,727] Trial 80 finished with value: -3.744556393714755 and parameters: {'n_estimators': 594, 'max_depth': 39, 'min_samples_split': 22, 'min_samples_leaf': 9}. Best is trial 72 with value: -1.8641536739529108.\n",
            "[I 2025-01-18 08:27:00,092] Trial 81 finished with value: -4.541106312301859 and parameters: {'n_estimators': 960, 'max_depth': 40, 'min_samples_split': 19, 'min_samples_leaf': 20}. Best is trial 72 with value: -1.8641536739529108.\n",
            "[I 2025-01-18 08:27:02,875] Trial 82 finished with value: -5.042691894926645 and parameters: {'n_estimators': 478, 'max_depth': 20, 'min_samples_split': 13, 'min_samples_leaf': 25}. Best is trial 72 with value: -1.8641536739529108.\n",
            "[I 2025-01-18 08:27:03,668] Trial 83 finished with value: -1.9342643064971932 and parameters: {'n_estimators': 112, 'max_depth': 14, 'min_samples_split': 3, 'min_samples_leaf': 2}. Best is trial 72 with value: -1.8641536739529108.\n",
            "[I 2025-01-18 08:27:11,908] Trial 84 finished with value: -2.803850325464797 and parameters: {'n_estimators': 870, 'max_depth': 38, 'min_samples_split': 16, 'min_samples_leaf': 4}. Best is trial 72 with value: -1.8641536739529108.\n",
            "[I 2025-01-18 08:27:17,007] Trial 85 finished with value: -3.8781189453693203 and parameters: {'n_estimators': 542, 'max_depth': 29, 'min_samples_split': 7, 'min_samples_leaf': 14}. Best is trial 72 with value: -1.8641536739529108.\n",
            "[I 2025-01-18 08:27:19,887] Trial 86 finished with value: -3.1216108759514043 and parameters: {'n_estimators': 459, 'max_depth': 35, 'min_samples_split': 21, 'min_samples_leaf': 2}. Best is trial 72 with value: -1.8641536739529108.\n",
            "[I 2025-01-18 08:27:22,497] Trial 87 finished with value: -5.171803078860318 and parameters: {'n_estimators': 437, 'max_depth': 35, 'min_samples_split': 17, 'min_samples_leaf': 28}. Best is trial 72 with value: -1.8641536739529108.\n",
            "[I 2025-01-18 08:27:29,048] Trial 88 finished with value: -4.5956770047647755 and parameters: {'n_estimators': 693, 'max_depth': 16, 'min_samples_split': 4, 'min_samples_leaf': 21}. Best is trial 72 with value: -1.8641536739529108.\n",
            "[I 2025-01-18 08:27:29,816] Trial 89 finished with value: -4.342652116125697 and parameters: {'n_estimators': 123, 'max_depth': 34, 'min_samples_split': 31, 'min_samples_leaf': 19}. Best is trial 72 with value: -1.8641536739529108.\n",
            "[I 2025-01-18 08:27:32,593] Trial 90 finished with value: -4.215888466587079 and parameters: {'n_estimators': 449, 'max_depth': 36, 'min_samples_split': 16, 'min_samples_leaf': 18}. Best is trial 72 with value: -1.8641536739529108.\n",
            "[I 2025-01-18 08:27:38,329] Trial 91 finished with value: -5.2570739975399885 and parameters: {'n_estimators': 948, 'max_depth': 25, 'min_samples_split': 31, 'min_samples_leaf': 29}. Best is trial 72 with value: -1.8641536739529108.\n",
            "[I 2025-01-18 08:27:41,650] Trial 92 finished with value: -1.9446787050094438 and parameters: {'n_estimators': 276, 'max_depth': 12, 'min_samples_split': 5, 'min_samples_leaf': 1}. Best is trial 72 with value: -1.8641536739529108.\n",
            "[I 2025-01-18 08:27:43,182] Trial 93 finished with value: -3.8740028989020265 and parameters: {'n_estimators': 185, 'max_depth': 38, 'min_samples_split': 4, 'min_samples_leaf': 11}. Best is trial 72 with value: -1.8641536739529108.\n",
            "[I 2025-01-18 08:27:48,406] Trial 94 finished with value: -3.812526574946078 and parameters: {'n_estimators': 861, 'max_depth': 10, 'min_samples_split': 27, 'min_samples_leaf': 10}. Best is trial 72 with value: -1.8641536739529108.\n",
            "[I 2025-01-18 08:27:49,636] Trial 95 finished with value: -5.22043017152723 and parameters: {'n_estimators': 206, 'max_depth': 38, 'min_samples_split': 21, 'min_samples_leaf': 29}. Best is trial 72 with value: -1.8641536739529108.\n",
            "[I 2025-01-18 08:27:55,810] Trial 96 finished with value: -2.972139215470089 and parameters: {'n_estimators': 762, 'max_depth': 42, 'min_samples_split': 10, 'min_samples_leaf': 6}. Best is trial 72 with value: -1.8641536739529108.\n",
            "[I 2025-01-18 08:28:01,152] Trial 97 finished with value: -3.8963557954696 and parameters: {'n_estimators': 776, 'max_depth': 43, 'min_samples_split': 32, 'min_samples_leaf': 14}. Best is trial 72 with value: -1.8641536739529108.\n",
            "[I 2025-01-18 08:28:03,685] Trial 98 finished with value: -5.343419250656418 and parameters: {'n_estimators': 435, 'max_depth': 41, 'min_samples_split': 12, 'min_samples_leaf': 30}. Best is trial 72 with value: -1.8641536739529108.\n",
            "[I 2025-01-18 08:28:09,626] Trial 99 finished with value: -5.045861342525099 and parameters: {'n_estimators': 873, 'max_depth': 27, 'min_samples_split': 25, 'min_samples_leaf': 25}. Best is trial 72 with value: -1.8641536739529108.\n"
          ]
        },
        {
          "output_type": "stream",
          "name": "stdout",
          "text": [
            "Best Hyperparameters: {'n_estimators': 358, 'max_depth': 34, 'min_samples_split': 2, 'min_samples_leaf': 2}\n",
            "Best Accuracy: -1.864\n",
            "Tuned MAE: 0.30958946668138504\n",
            "Tuned MSE: 0.13820062801388486\n",
            "Tuned R2: 0.9878929225593658\n"
          ]
        }
      ],
      "source": [
        "# Importing the necessary libraries\n",
        "import seaborn as sns\n",
        "import pandas as pd\n",
        "from sklearn.model_selection import train_test_split\n",
        "from sklearn.ensemble import RandomForestRegressor\n",
        "from sklearn.metrics import mean_absolute_error, mean_squared_error, r2_score\n",
        "!pip install optuna\n",
        "import optuna\n",
        "from sklearn.model_selection import cross_val_score\n",
        "import matplotlib.pyplot as plt\n",
        "\n",
        "# Load the healthexp dataset from seaborn\n",
        "# This dataset contains health expenditure data\n",
        "healthexp = sns.load_dataset('healthexp')\n",
        "\n",
        "# Display the first 100 rows to understand the dataset structure\n",
        "healthexp.head(100)\n",
        "\n",
        "# Convert categorical columns to dummy/one-hot encoded variables\n",
        "healthexp = pd.get_dummies(healthexp)\n",
        "\n",
        "# Split the dataset into features (X) and target (y)\n",
        "# 'Life_Expectancy' is our target variable\n",
        "X = healthexp.drop(['Life_Expectancy'], axis=1)\n",
        "y = healthexp['Life_Expectancy']\n",
        "\n",
        "# Split the dataset into training and testing sets\n",
        "# 80% for training, 20% for testing\n",
        "X_train, X_test, y_train, y_test = train_test_split(X, y, test_size=0.2, random_state=19)\n",
        "\n",
        "# Initialize and train a Random Forest Regressor\n",
        "# Random Forest is a robust machine learning algorithm for regression\n",
        "rfr = RandomForestRegressor(random_state=13)\n",
        "rfr.fit(X_train, y_train)\n",
        "\n",
        "# Predict on the test dataset\n",
        "y_pred = rfr.predict(X_test)\n",
        "\n",
        "# Evaluate the model performance\n",
        "# Using metrics: Mean Absolute Error (MAE), Mean Squared Error (MSE), and R-squared (R2)\n",
        "print(\"MAE:\", mean_absolute_error(y_test, y_pred))\n",
        "print(\"MSE:\", mean_squared_error(y_test, y_pred))\n",
        "print(\"R2:\", r2_score(y_test, y_pred))\n",
        "\n",
        "# Define the objective function for Optuna\n",
        "# This function tunes hyperparameters for the Random Forest Regressor\n",
        "def objective(trial):\n",
        "    n_estimators = trial.suggest_int('n_estimators', 100, 1000)\n",
        "    max_depth = trial.suggest_int('max_depth', 10, 50)\n",
        "    min_samples_split = trial.suggest_int('min_samples_split', 2, 32)\n",
        "    min_samples_leaf = trial.suggest_int('min_samples_leaf', 1, 32)\n",
        "    model = RandomForestRegressor(\n",
        "        n_estimators=n_estimators,\n",
        "        max_depth=max_depth,\n",
        "        min_samples_split=min_samples_split,\n",
        "        min_samples_leaf=min_samples_leaf\n",
        "    )\n",
        "    score = cross_val_score(model, X, y, n_jobs=-1, cv=5, scoring='neg_mean_squared_error').mean()\n",
        "    return score\n",
        "\n",
        "# Create an Optuna study\n",
        "# The study optimizes the hyperparameters of Random Forest Regressor\n",
        "study = optuna.create_study(direction='maximize', sampler=optuna.samplers.RandomSampler(seed=42))\n",
        "\n",
        "# Run the optimization process for 100 trials\n",
        "study.optimize(objective, n_trials=100)\n",
        "\n",
        "# Retrieve the best hyperparameters and their score\n",
        "best_params = study.best_params\n",
        "best_score = study.best_value\n",
        "print(f\"Best Hyperparameters: {best_params}\")\n",
        "print(f\"Best Accuracy: {best_score:.3f}\")\n",
        "\n",
        "# Visualize the Optuna results\n",
        "# These visualizations help understand the optimization process and parameter importance\n",
        "optuna.visualization.plot_optimization_history(study)\n",
        "optuna.visualization.plot_parallel_coordinate(study)\n",
        "optuna.visualization.plot_slice(study, params=['n_estimators', 'max_depth', 'min_samples_leaf', 'min_samples_split'])\n",
        "optuna.visualization.plot_param_importances(study)\n",
        "\n",
        "# Extract the best hyperparameters\n",
        "best_n_estimators = best_params['n_estimators']\n",
        "best_max_depth = best_params['max_depth']\n",
        "best_min_samples_split = best_params['min_samples_split']\n",
        "best_min_samples_leaf = best_params['min_samples_leaf']\n",
        "\n",
        "# Build and train a new Random Forest model using the best hyperparameters\n",
        "best_model = RandomForestRegressor(\n",
        "    n_estimators=best_n_estimators,\n",
        "    max_depth=best_max_depth,\n",
        "    min_samples_split=best_min_samples_split,\n",
        "    min_samples_leaf=best_min_samples_leaf\n",
        ")\n",
        "best_model.fit(X_train, y_train)\n",
        "\n",
        "# Predict with the tuned model\n",
        "y_pred = best_model.predict(X_test)\n",
        "\n",
        "# Evaluate the tuned model\n",
        "print(\"Tuned MAE:\", mean_absolute_error(y_test, y_pred))\n",
        "print(\"Tuned MSE:\", mean_squared_error(y_test, y_pred))\n",
        "print(\"Tuned R2:\", r2_score(y_test, y_pred))\n"
      ]
    },
    {
      "cell_type": "code",
      "source": [
        "optuna.visualization.plot_optimization_history(study)"
      ],
      "metadata": {
        "colab": {
          "base_uri": "https://localhost:8080/",
          "height": 542
        },
        "id": "RlAPEAKAby0j",
        "outputId": "afb35db3-b907-4d25-f75b-e5634a5e2df0"
      },
      "execution_count": 5,
      "outputs": [
        {
          "output_type": "display_data",
          "data": {
            "text/html": [
              "<html>\n",
              "<head><meta charset=\"utf-8\" /></head>\n",
              "<body>\n",
              "    <div>            <script src=\"https://cdnjs.cloudflare.com/ajax/libs/mathjax/2.7.5/MathJax.js?config=TeX-AMS-MML_SVG\"></script><script type=\"text/javascript\">if (window.MathJax && window.MathJax.Hub && window.MathJax.Hub.Config) {window.MathJax.Hub.Config({SVG: {font: \"STIX-Web\"}});}</script>                <script type=\"text/javascript\">window.PlotlyConfig = {MathJaxConfig: 'local'};</script>\n",
              "        <script charset=\"utf-8\" src=\"https://cdn.plot.ly/plotly-2.35.2.min.js\"></script>                <div id=\"d7f2f9df-477c-4c3d-816d-b3088b6a14c0\" class=\"plotly-graph-div\" style=\"height:525px; width:100%;\"></div>            <script type=\"text/javascript\">                                    window.PLOTLYENV=window.PLOTLYENV || {};                                    if (document.getElementById(\"d7f2f9df-477c-4c3d-816d-b3088b6a14c0\")) {                    Plotly.newPlot(                        \"d7f2f9df-477c-4c3d-816d-b3088b6a14c0\",                        [{\"mode\":\"markers\",\"name\":\"Objective Value\",\"x\":[0,1,2,3,4,5,6,7,8,9,10,11,12,13,14,15,16,17,18,19,20,21,22,23,24,25,26,27,28,29,30,31,32,33,34,35,36,37,38,39,40,41,42,43,44,45,46,47,48,49,50,51,52,53,54,55,56,57,58,59,60,61,62,63,64,65,66,67,68,69,70,71,72,73,74,75,76,77,78,79,80,81,82,83,84,85,86,87,88,89,90,91,92,93,94,95,96,97,98,99],\"y\":[-4.502017696233201,-5.17020291237105,-5.6033026031825175,-2.997774315886926,-3.8149133428323845,-3.8580312892840105,-4.079827568772584,-3.2684195666591926,-5.070542477746006,-3.8928421945052785,-5.366142141734764,-4.071381725597152,-4.97881072662228,-5.330345386071027,-3.855111242647284,-3.8725248005621937,-5.023021525493145,-3.354999151404688,-5.032966231226029,-2.6910895922904827,-2.518166393121486,-4.651434149748537,-4.909396350077957,-3.9805040929366946,-2.377674335794426,-4.082595787879278,-5.023139006634244,-2.9909897036757305,-5.146011624416547,-4.205092803371553,-2.5641578490779633,-5.138142358138588,-3.5114434389616624,-3.885234534214226,-5.623093272447841,-3.8244998920662048,-4.045756541588638,-3.781664320930647,-3.8143436832193927,-4.924004816700357,-4.228264898119876,-3.021405255977505,-3.2598199908027636,-3.3043477158923773,-3.4849109018323077,-5.254188404029544,-4.165453431670454,-5.203098189595531,-3.8321859441357886,-5.026425012240428,-5.2867078052019965,-4.773833082912177,-4.840891454792421,-3.6268475184661417,-5.147688382646628,-3.794363426792272,-3.883901562606598,-4.04655707127566,-4.985396709051839,-3.2914060838819355,-3.8532944785226464,-5.554475153505855,-3.852698540988217,-4.182817965769625,-2.971525967818461,-4.097550904879603,-4.8860009653453025,-5.09938310528532,-4.044989343818268,-5.0572339178571095,-2.619866475663102,-4.220033117995157,-1.8641536739529108,-4.07793850254852,-3.072746324126943,-4.5670416889085335,-3.834168082246542,-2.7155627687556034,-4.8364374438326205,-3.732613294612225,-3.744556393714755,-4.541106312301859,-5.042691894926645,-1.9342643064971932,-2.803850325464797,-3.8781189453693203,-3.1216108759514043,-5.171803078860318,-4.5956770047647755,-4.342652116125697,-4.215888466587079,-5.2570739975399885,-1.9446787050094438,-3.8740028989020265,-3.812526574946078,-5.22043017152723,-2.972139215470089,-3.8963557954696,-5.343419250656418,-5.045861342525099],\"type\":\"scatter\"},{\"mode\":\"lines\",\"name\":\"Best Value\",\"x\":[0,1,2,3,4,5,6,7,8,9,10,11,12,13,14,15,16,17,18,19,20,21,22,23,24,25,26,27,28,29,30,31,32,33,34,35,36,37,38,39,40,41,42,43,44,45,46,47,48,49,50,51,52,53,54,55,56,57,58,59,60,61,62,63,64,65,66,67,68,69,70,71,72,73,74,75,76,77,78,79,80,81,82,83,84,85,86,87,88,89,90,91,92,93,94,95,96,97,98,99],\"y\":[-4.502017696233201,-4.502017696233201,-4.502017696233201,-2.997774315886926,-2.997774315886926,-2.997774315886926,-2.997774315886926,-2.997774315886926,-2.997774315886926,-2.997774315886926,-2.997774315886926,-2.997774315886926,-2.997774315886926,-2.997774315886926,-2.997774315886926,-2.997774315886926,-2.997774315886926,-2.997774315886926,-2.997774315886926,-2.6910895922904827,-2.518166393121486,-2.518166393121486,-2.518166393121486,-2.518166393121486,-2.377674335794426,-2.377674335794426,-2.377674335794426,-2.377674335794426,-2.377674335794426,-2.377674335794426,-2.377674335794426,-2.377674335794426,-2.377674335794426,-2.377674335794426,-2.377674335794426,-2.377674335794426,-2.377674335794426,-2.377674335794426,-2.377674335794426,-2.377674335794426,-2.377674335794426,-2.377674335794426,-2.377674335794426,-2.377674335794426,-2.377674335794426,-2.377674335794426,-2.377674335794426,-2.377674335794426,-2.377674335794426,-2.377674335794426,-2.377674335794426,-2.377674335794426,-2.377674335794426,-2.377674335794426,-2.377674335794426,-2.377674335794426,-2.377674335794426,-2.377674335794426,-2.377674335794426,-2.377674335794426,-2.377674335794426,-2.377674335794426,-2.377674335794426,-2.377674335794426,-2.377674335794426,-2.377674335794426,-2.377674335794426,-2.377674335794426,-2.377674335794426,-2.377674335794426,-2.377674335794426,-2.377674335794426,-1.8641536739529108,-1.8641536739529108,-1.8641536739529108,-1.8641536739529108,-1.8641536739529108,-1.8641536739529108,-1.8641536739529108,-1.8641536739529108,-1.8641536739529108,-1.8641536739529108,-1.8641536739529108,-1.8641536739529108,-1.8641536739529108,-1.8641536739529108,-1.8641536739529108,-1.8641536739529108,-1.8641536739529108,-1.8641536739529108,-1.8641536739529108,-1.8641536739529108,-1.8641536739529108,-1.8641536739529108,-1.8641536739529108,-1.8641536739529108,-1.8641536739529108,-1.8641536739529108,-1.8641536739529108,-1.8641536739529108],\"type\":\"scatter\"},{\"marker\":{\"color\":\"#cccccc\"},\"mode\":\"markers\",\"name\":\"Infeasible Trial\",\"showlegend\":false,\"x\":[],\"y\":[],\"type\":\"scatter\"}],                        {\"title\":{\"text\":\"Optimization History Plot\"},\"xaxis\":{\"title\":{\"text\":\"Trial\"}},\"yaxis\":{\"title\":{\"text\":\"Objective Value\"}},\"template\":{\"data\":{\"histogram2dcontour\":[{\"type\":\"histogram2dcontour\",\"colorbar\":{\"outlinewidth\":0,\"ticks\":\"\"},\"colorscale\":[[0.0,\"#0d0887\"],[0.1111111111111111,\"#46039f\"],[0.2222222222222222,\"#7201a8\"],[0.3333333333333333,\"#9c179e\"],[0.4444444444444444,\"#bd3786\"],[0.5555555555555556,\"#d8576b\"],[0.6666666666666666,\"#ed7953\"],[0.7777777777777778,\"#fb9f3a\"],[0.8888888888888888,\"#fdca26\"],[1.0,\"#f0f921\"]]}],\"choropleth\":[{\"type\":\"choropleth\",\"colorbar\":{\"outlinewidth\":0,\"ticks\":\"\"}}],\"histogram2d\":[{\"type\":\"histogram2d\",\"colorbar\":{\"outlinewidth\":0,\"ticks\":\"\"},\"colorscale\":[[0.0,\"#0d0887\"],[0.1111111111111111,\"#46039f\"],[0.2222222222222222,\"#7201a8\"],[0.3333333333333333,\"#9c179e\"],[0.4444444444444444,\"#bd3786\"],[0.5555555555555556,\"#d8576b\"],[0.6666666666666666,\"#ed7953\"],[0.7777777777777778,\"#fb9f3a\"],[0.8888888888888888,\"#fdca26\"],[1.0,\"#f0f921\"]]}],\"heatmap\":[{\"type\":\"heatmap\",\"colorbar\":{\"outlinewidth\":0,\"ticks\":\"\"},\"colorscale\":[[0.0,\"#0d0887\"],[0.1111111111111111,\"#46039f\"],[0.2222222222222222,\"#7201a8\"],[0.3333333333333333,\"#9c179e\"],[0.4444444444444444,\"#bd3786\"],[0.5555555555555556,\"#d8576b\"],[0.6666666666666666,\"#ed7953\"],[0.7777777777777778,\"#fb9f3a\"],[0.8888888888888888,\"#fdca26\"],[1.0,\"#f0f921\"]]}],\"heatmapgl\":[{\"type\":\"heatmapgl\",\"colorbar\":{\"outlinewidth\":0,\"ticks\":\"\"},\"colorscale\":[[0.0,\"#0d0887\"],[0.1111111111111111,\"#46039f\"],[0.2222222222222222,\"#7201a8\"],[0.3333333333333333,\"#9c179e\"],[0.4444444444444444,\"#bd3786\"],[0.5555555555555556,\"#d8576b\"],[0.6666666666666666,\"#ed7953\"],[0.7777777777777778,\"#fb9f3a\"],[0.8888888888888888,\"#fdca26\"],[1.0,\"#f0f921\"]]}],\"contourcarpet\":[{\"type\":\"contourcarpet\",\"colorbar\":{\"outlinewidth\":0,\"ticks\":\"\"}}],\"contour\":[{\"type\":\"contour\",\"colorbar\":{\"outlinewidth\":0,\"ticks\":\"\"},\"colorscale\":[[0.0,\"#0d0887\"],[0.1111111111111111,\"#46039f\"],[0.2222222222222222,\"#7201a8\"],[0.3333333333333333,\"#9c179e\"],[0.4444444444444444,\"#bd3786\"],[0.5555555555555556,\"#d8576b\"],[0.6666666666666666,\"#ed7953\"],[0.7777777777777778,\"#fb9f3a\"],[0.8888888888888888,\"#fdca26\"],[1.0,\"#f0f921\"]]}],\"surface\":[{\"type\":\"surface\",\"colorbar\":{\"outlinewidth\":0,\"ticks\":\"\"},\"colorscale\":[[0.0,\"#0d0887\"],[0.1111111111111111,\"#46039f\"],[0.2222222222222222,\"#7201a8\"],[0.3333333333333333,\"#9c179e\"],[0.4444444444444444,\"#bd3786\"],[0.5555555555555556,\"#d8576b\"],[0.6666666666666666,\"#ed7953\"],[0.7777777777777778,\"#fb9f3a\"],[0.8888888888888888,\"#fdca26\"],[1.0,\"#f0f921\"]]}],\"mesh3d\":[{\"type\":\"mesh3d\",\"colorbar\":{\"outlinewidth\":0,\"ticks\":\"\"}}],\"scatter\":[{\"fillpattern\":{\"fillmode\":\"overlay\",\"size\":10,\"solidity\":0.2},\"type\":\"scatter\"}],\"parcoords\":[{\"type\":\"parcoords\",\"line\":{\"colorbar\":{\"outlinewidth\":0,\"ticks\":\"\"}}}],\"scatterpolargl\":[{\"type\":\"scatterpolargl\",\"marker\":{\"colorbar\":{\"outlinewidth\":0,\"ticks\":\"\"}}}],\"bar\":[{\"error_x\":{\"color\":\"#2a3f5f\"},\"error_y\":{\"color\":\"#2a3f5f\"},\"marker\":{\"line\":{\"color\":\"#E5ECF6\",\"width\":0.5},\"pattern\":{\"fillmode\":\"overlay\",\"size\":10,\"solidity\":0.2}},\"type\":\"bar\"}],\"scattergeo\":[{\"type\":\"scattergeo\",\"marker\":{\"colorbar\":{\"outlinewidth\":0,\"ticks\":\"\"}}}],\"scatterpolar\":[{\"type\":\"scatterpolar\",\"marker\":{\"colorbar\":{\"outlinewidth\":0,\"ticks\":\"\"}}}],\"histogram\":[{\"marker\":{\"pattern\":{\"fillmode\":\"overlay\",\"size\":10,\"solidity\":0.2}},\"type\":\"histogram\"}],\"scattergl\":[{\"type\":\"scattergl\",\"marker\":{\"colorbar\":{\"outlinewidth\":0,\"ticks\":\"\"}}}],\"scatter3d\":[{\"type\":\"scatter3d\",\"line\":{\"colorbar\":{\"outlinewidth\":0,\"ticks\":\"\"}},\"marker\":{\"colorbar\":{\"outlinewidth\":0,\"ticks\":\"\"}}}],\"scattermapbox\":[{\"type\":\"scattermapbox\",\"marker\":{\"colorbar\":{\"outlinewidth\":0,\"ticks\":\"\"}}}],\"scatterternary\":[{\"type\":\"scatterternary\",\"marker\":{\"colorbar\":{\"outlinewidth\":0,\"ticks\":\"\"}}}],\"scattercarpet\":[{\"type\":\"scattercarpet\",\"marker\":{\"colorbar\":{\"outlinewidth\":0,\"ticks\":\"\"}}}],\"carpet\":[{\"aaxis\":{\"endlinecolor\":\"#2a3f5f\",\"gridcolor\":\"white\",\"linecolor\":\"white\",\"minorgridcolor\":\"white\",\"startlinecolor\":\"#2a3f5f\"},\"baxis\":{\"endlinecolor\":\"#2a3f5f\",\"gridcolor\":\"white\",\"linecolor\":\"white\",\"minorgridcolor\":\"white\",\"startlinecolor\":\"#2a3f5f\"},\"type\":\"carpet\"}],\"table\":[{\"cells\":{\"fill\":{\"color\":\"#EBF0F8\"},\"line\":{\"color\":\"white\"}},\"header\":{\"fill\":{\"color\":\"#C8D4E3\"},\"line\":{\"color\":\"white\"}},\"type\":\"table\"}],\"barpolar\":[{\"marker\":{\"line\":{\"color\":\"#E5ECF6\",\"width\":0.5},\"pattern\":{\"fillmode\":\"overlay\",\"size\":10,\"solidity\":0.2}},\"type\":\"barpolar\"}],\"pie\":[{\"automargin\":true,\"type\":\"pie\"}]},\"layout\":{\"autotypenumbers\":\"strict\",\"colorway\":[\"#636efa\",\"#EF553B\",\"#00cc96\",\"#ab63fa\",\"#FFA15A\",\"#19d3f3\",\"#FF6692\",\"#B6E880\",\"#FF97FF\",\"#FECB52\"],\"font\":{\"color\":\"#2a3f5f\"},\"hovermode\":\"closest\",\"hoverlabel\":{\"align\":\"left\"},\"paper_bgcolor\":\"white\",\"plot_bgcolor\":\"#E5ECF6\",\"polar\":{\"bgcolor\":\"#E5ECF6\",\"angularaxis\":{\"gridcolor\":\"white\",\"linecolor\":\"white\",\"ticks\":\"\"},\"radialaxis\":{\"gridcolor\":\"white\",\"linecolor\":\"white\",\"ticks\":\"\"}},\"ternary\":{\"bgcolor\":\"#E5ECF6\",\"aaxis\":{\"gridcolor\":\"white\",\"linecolor\":\"white\",\"ticks\":\"\"},\"baxis\":{\"gridcolor\":\"white\",\"linecolor\":\"white\",\"ticks\":\"\"},\"caxis\":{\"gridcolor\":\"white\",\"linecolor\":\"white\",\"ticks\":\"\"}},\"coloraxis\":{\"colorbar\":{\"outlinewidth\":0,\"ticks\":\"\"}},\"colorscale\":{\"sequential\":[[0.0,\"#0d0887\"],[0.1111111111111111,\"#46039f\"],[0.2222222222222222,\"#7201a8\"],[0.3333333333333333,\"#9c179e\"],[0.4444444444444444,\"#bd3786\"],[0.5555555555555556,\"#d8576b\"],[0.6666666666666666,\"#ed7953\"],[0.7777777777777778,\"#fb9f3a\"],[0.8888888888888888,\"#fdca26\"],[1.0,\"#f0f921\"]],\"sequentialminus\":[[0.0,\"#0d0887\"],[0.1111111111111111,\"#46039f\"],[0.2222222222222222,\"#7201a8\"],[0.3333333333333333,\"#9c179e\"],[0.4444444444444444,\"#bd3786\"],[0.5555555555555556,\"#d8576b\"],[0.6666666666666666,\"#ed7953\"],[0.7777777777777778,\"#fb9f3a\"],[0.8888888888888888,\"#fdca26\"],[1.0,\"#f0f921\"]],\"diverging\":[[0,\"#8e0152\"],[0.1,\"#c51b7d\"],[0.2,\"#de77ae\"],[0.3,\"#f1b6da\"],[0.4,\"#fde0ef\"],[0.5,\"#f7f7f7\"],[0.6,\"#e6f5d0\"],[0.7,\"#b8e186\"],[0.8,\"#7fbc41\"],[0.9,\"#4d9221\"],[1,\"#276419\"]]},\"xaxis\":{\"gridcolor\":\"white\",\"linecolor\":\"white\",\"ticks\":\"\",\"title\":{\"standoff\":15},\"zerolinecolor\":\"white\",\"automargin\":true,\"zerolinewidth\":2},\"yaxis\":{\"gridcolor\":\"white\",\"linecolor\":\"white\",\"ticks\":\"\",\"title\":{\"standoff\":15},\"zerolinecolor\":\"white\",\"automargin\":true,\"zerolinewidth\":2},\"scene\":{\"xaxis\":{\"backgroundcolor\":\"#E5ECF6\",\"gridcolor\":\"white\",\"linecolor\":\"white\",\"showbackground\":true,\"ticks\":\"\",\"zerolinecolor\":\"white\",\"gridwidth\":2},\"yaxis\":{\"backgroundcolor\":\"#E5ECF6\",\"gridcolor\":\"white\",\"linecolor\":\"white\",\"showbackground\":true,\"ticks\":\"\",\"zerolinecolor\":\"white\",\"gridwidth\":2},\"zaxis\":{\"backgroundcolor\":\"#E5ECF6\",\"gridcolor\":\"white\",\"linecolor\":\"white\",\"showbackground\":true,\"ticks\":\"\",\"zerolinecolor\":\"white\",\"gridwidth\":2}},\"shapedefaults\":{\"line\":{\"color\":\"#2a3f5f\"}},\"annotationdefaults\":{\"arrowcolor\":\"#2a3f5f\",\"arrowhead\":0,\"arrowwidth\":1},\"geo\":{\"bgcolor\":\"white\",\"landcolor\":\"#E5ECF6\",\"subunitcolor\":\"white\",\"showland\":true,\"showlakes\":true,\"lakecolor\":\"white\"},\"title\":{\"x\":0.05},\"mapbox\":{\"style\":\"light\"}}}},                        {\"responsive\": true}                    ).then(function(){\n",
              "                            \n",
              "var gd = document.getElementById('d7f2f9df-477c-4c3d-816d-b3088b6a14c0');\n",
              "var x = new MutationObserver(function (mutations, observer) {{\n",
              "        var display = window.getComputedStyle(gd).display;\n",
              "        if (!display || display === 'none') {{\n",
              "            console.log([gd, 'removed!']);\n",
              "            Plotly.purge(gd);\n",
              "            observer.disconnect();\n",
              "        }}\n",
              "}});\n",
              "\n",
              "// Listen for the removal of the full notebook cells\n",
              "var notebookContainer = gd.closest('#notebook-container');\n",
              "if (notebookContainer) {{\n",
              "    x.observe(notebookContainer, {childList: true});\n",
              "}}\n",
              "\n",
              "// Listen for the clearing of the current output cell\n",
              "var outputEl = gd.closest('.output');\n",
              "if (outputEl) {{\n",
              "    x.observe(outputEl, {childList: true});\n",
              "}}\n",
              "\n",
              "                        })                };                            </script>        </div>\n",
              "</body>\n",
              "</html>"
            ]
          },
          "metadata": {}
        }
      ]
    },
    {
      "cell_type": "code",
      "source": [
        "optuna.visualization.plot_parallel_coordinate(study)\n"
      ],
      "metadata": {
        "colab": {
          "base_uri": "https://localhost:8080/",
          "height": 542
        },
        "id": "sWOhpaD134KC",
        "outputId": "d6521b7c-006a-4c8f-889f-7c60b9ec8367"
      },
      "execution_count": 6,
      "outputs": [
        {
          "output_type": "display_data",
          "data": {
            "text/html": [
              "<html>\n",
              "<head><meta charset=\"utf-8\" /></head>\n",
              "<body>\n",
              "    <div>            <script src=\"https://cdnjs.cloudflare.com/ajax/libs/mathjax/2.7.5/MathJax.js?config=TeX-AMS-MML_SVG\"></script><script type=\"text/javascript\">if (window.MathJax && window.MathJax.Hub && window.MathJax.Hub.Config) {window.MathJax.Hub.Config({SVG: {font: \"STIX-Web\"}});}</script>                <script type=\"text/javascript\">window.PlotlyConfig = {MathJaxConfig: 'local'};</script>\n",
              "        <script charset=\"utf-8\" src=\"https://cdn.plot.ly/plotly-2.35.2.min.js\"></script>                <div id=\"51fecb92-a22b-4d36-8566-5e868cf0fae3\" class=\"plotly-graph-div\" style=\"height:525px; width:100%;\"></div>            <script type=\"text/javascript\">                                    window.PLOTLYENV=window.PLOTLYENV || {};                                    if (document.getElementById(\"51fecb92-a22b-4d36-8566-5e868cf0fae3\")) {                    Plotly.newPlot(                        \"51fecb92-a22b-4d36-8566-5e868cf0fae3\",                        [{\"dimensions\":[{\"label\":\"Objective Value\",\"range\":[-5.623093272447841,-1.8641536739529108],\"values\":[-4.502017696233201,-5.17020291237105,-5.6033026031825175,-2.997774315886926,-3.8149133428323845,-3.8580312892840105,-4.079827568772584,-3.2684195666591926,-5.070542477746006,-3.8928421945052785,-5.366142141734764,-4.071381725597152,-4.97881072662228,-5.330345386071027,-3.855111242647284,-3.8725248005621937,-5.023021525493145,-3.354999151404688,-5.032966231226029,-2.6910895922904827,-2.518166393121486,-4.651434149748537,-4.909396350077957,-3.9805040929366946,-2.377674335794426,-4.082595787879278,-5.023139006634244,-2.9909897036757305,-5.146011624416547,-4.205092803371553,-2.5641578490779633,-5.138142358138588,-3.5114434389616624,-3.885234534214226,-5.623093272447841,-3.8244998920662048,-4.045756541588638,-3.781664320930647,-3.8143436832193927,-4.924004816700357,-4.228264898119876,-3.021405255977505,-3.2598199908027636,-3.3043477158923773,-3.4849109018323077,-5.254188404029544,-4.165453431670454,-5.203098189595531,-3.8321859441357886,-5.026425012240428,-5.2867078052019965,-4.773833082912177,-4.840891454792421,-3.6268475184661417,-5.147688382646628,-3.794363426792272,-3.883901562606598,-4.04655707127566,-4.985396709051839,-3.2914060838819355,-3.8532944785226464,-5.554475153505855,-3.852698540988217,-4.182817965769625,-2.971525967818461,-4.097550904879603,-4.8860009653453025,-5.09938310528532,-4.044989343818268,-5.0572339178571095,-2.619866475663102,-4.220033117995157,-1.8641536739529108,-4.07793850254852,-3.072746324126943,-4.5670416889085335,-3.834168082246542,-2.7155627687556034,-4.8364374438326205,-3.732613294612225,-3.744556393714755,-4.541106312301859,-5.042691894926645,-1.9342643064971932,-2.803850325464797,-3.8781189453693203,-3.1216108759514043,-5.171803078860318,-4.5956770047647755,-4.342652116125697,-4.215888466587079,-5.2570739975399885,-1.9446787050094438,-3.8740028989020265,-3.812526574946078,-5.22043017152723,-2.972139215470089,-3.8963557954696,-5.343419250656418,-5.045861342525099]},{\"label\":\"max_depth\",\"range\":[10,50],\"values\":[48,16,39,18,31,15,42,11,48,14,30,37,17,46,18,21,32,50,43,13,35,23,29,33,27,36,20,13,43,17,46,27,30,23,38,20,11,21,30,41,35,44,34,19,25,14,37,19,35,46,13,10,16,19,40,33,20,35,30,10,49,48,44,22,38,50,40,22,47,36,23,11,34,24,18,31,50,21,49,17,39,40,20,14,38,29,35,35,16,34,36,25,12,38,10,38,42,43,41,27]},{\"label\":\"min_samples_leaf\",\"range\":[1,32],\"values\":[20,28,32,6,10,12,17,6,26,15,30,17,25,30,11,12,26,7,24,4,3,21,23,16,4,17,25,6,28,18,4,28,8,11,32,10,17,8,8,24,18,6,1,6,5,29,18,29,12,25,29,22,23,8,28,12,13,17,24,6,12,31,13,18,4,17,23,26,17,26,4,18,2,17,3,21,11,3,23,9,9,20,25,2,4,14,2,28,21,19,18,29,1,11,10,29,6,14,30,25]},{\"label\":\"min_samples_split\",\"range\":[2,32],\"values\":[24,3,2,7,15,11,8,20,31,23,3,11,32,20,3,27,6,25,23,13,12,24,5,25,2,11,14,10,21,29,11,27,14,31,13,17,20,30,32,9,21,11,23,22,31,30,27,4,12,29,7,5,19,24,22,4,32,26,8,22,30,15,11,7,19,6,23,27,17,23,13,16,2,5,21,18,18,15,27,6,22,19,13,3,16,7,21,17,4,31,16,31,5,4,27,21,10,32,12,25]},{\"label\":\"n_estimators\",\"range\":[104,968],\"values\":[437,240,641,850,374,651,510,633,158,374,209,333,592,946,179,450,353,167,104,794,877,380,899,785,570,128,917,306,937,824,827,305,106,207,567,967,356,146,230,705,431,181,136,561,722,407,332,577,911,754,678,646,104,687,393,692,338,903,619,352,947,113,968,866,943,654,890,423,881,819,901,621,358,841,793,146,754,816,122,468,594,960,478,112,870,542,459,437,693,123,449,948,276,185,861,206,762,776,435,873]}],\"labelangle\":30,\"labelside\":\"bottom\",\"line\":{\"color\":[-4.502017696233201,-5.17020291237105,-5.6033026031825175,-2.997774315886926,-3.8149133428323845,-3.8580312892840105,-4.079827568772584,-3.2684195666591926,-5.070542477746006,-3.8928421945052785,-5.366142141734764,-4.071381725597152,-4.97881072662228,-5.330345386071027,-3.855111242647284,-3.8725248005621937,-5.023021525493145,-3.354999151404688,-5.032966231226029,-2.6910895922904827,-2.518166393121486,-4.651434149748537,-4.909396350077957,-3.9805040929366946,-2.377674335794426,-4.082595787879278,-5.023139006634244,-2.9909897036757305,-5.146011624416547,-4.205092803371553,-2.5641578490779633,-5.138142358138588,-3.5114434389616624,-3.885234534214226,-5.623093272447841,-3.8244998920662048,-4.045756541588638,-3.781664320930647,-3.8143436832193927,-4.924004816700357,-4.228264898119876,-3.021405255977505,-3.2598199908027636,-3.3043477158923773,-3.4849109018323077,-5.254188404029544,-4.165453431670454,-5.203098189595531,-3.8321859441357886,-5.026425012240428,-5.2867078052019965,-4.773833082912177,-4.840891454792421,-3.6268475184661417,-5.147688382646628,-3.794363426792272,-3.883901562606598,-4.04655707127566,-4.985396709051839,-3.2914060838819355,-3.8532944785226464,-5.554475153505855,-3.852698540988217,-4.182817965769625,-2.971525967818461,-4.097550904879603,-4.8860009653453025,-5.09938310528532,-4.044989343818268,-5.0572339178571095,-2.619866475663102,-4.220033117995157,-1.8641536739529108,-4.07793850254852,-3.072746324126943,-4.5670416889085335,-3.834168082246542,-2.7155627687556034,-4.8364374438326205,-3.732613294612225,-3.744556393714755,-4.541106312301859,-5.042691894926645,-1.9342643064971932,-2.803850325464797,-3.8781189453693203,-3.1216108759514043,-5.171803078860318,-4.5956770047647755,-4.342652116125697,-4.215888466587079,-5.2570739975399885,-1.9446787050094438,-3.8740028989020265,-3.812526574946078,-5.22043017152723,-2.972139215470089,-3.8963557954696,-5.343419250656418,-5.045861342525099],\"colorbar\":{\"title\":{\"text\":\"Objective Value\"}},\"colorscale\":[[0.0,\"rgb(247,251,255)\"],[0.125,\"rgb(222,235,247)\"],[0.25,\"rgb(198,219,239)\"],[0.375,\"rgb(158,202,225)\"],[0.5,\"rgb(107,174,214)\"],[0.625,\"rgb(66,146,198)\"],[0.75,\"rgb(33,113,181)\"],[0.875,\"rgb(8,81,156)\"],[1.0,\"rgb(8,48,107)\"]],\"reversescale\":false,\"showscale\":true},\"type\":\"parcoords\"}],                        {\"title\":{\"text\":\"Parallel Coordinate Plot\"},\"template\":{\"data\":{\"histogram2dcontour\":[{\"type\":\"histogram2dcontour\",\"colorbar\":{\"outlinewidth\":0,\"ticks\":\"\"},\"colorscale\":[[0.0,\"#0d0887\"],[0.1111111111111111,\"#46039f\"],[0.2222222222222222,\"#7201a8\"],[0.3333333333333333,\"#9c179e\"],[0.4444444444444444,\"#bd3786\"],[0.5555555555555556,\"#d8576b\"],[0.6666666666666666,\"#ed7953\"],[0.7777777777777778,\"#fb9f3a\"],[0.8888888888888888,\"#fdca26\"],[1.0,\"#f0f921\"]]}],\"choropleth\":[{\"type\":\"choropleth\",\"colorbar\":{\"outlinewidth\":0,\"ticks\":\"\"}}],\"histogram2d\":[{\"type\":\"histogram2d\",\"colorbar\":{\"outlinewidth\":0,\"ticks\":\"\"},\"colorscale\":[[0.0,\"#0d0887\"],[0.1111111111111111,\"#46039f\"],[0.2222222222222222,\"#7201a8\"],[0.3333333333333333,\"#9c179e\"],[0.4444444444444444,\"#bd3786\"],[0.5555555555555556,\"#d8576b\"],[0.6666666666666666,\"#ed7953\"],[0.7777777777777778,\"#fb9f3a\"],[0.8888888888888888,\"#fdca26\"],[1.0,\"#f0f921\"]]}],\"heatmap\":[{\"type\":\"heatmap\",\"colorbar\":{\"outlinewidth\":0,\"ticks\":\"\"},\"colorscale\":[[0.0,\"#0d0887\"],[0.1111111111111111,\"#46039f\"],[0.2222222222222222,\"#7201a8\"],[0.3333333333333333,\"#9c179e\"],[0.4444444444444444,\"#bd3786\"],[0.5555555555555556,\"#d8576b\"],[0.6666666666666666,\"#ed7953\"],[0.7777777777777778,\"#fb9f3a\"],[0.8888888888888888,\"#fdca26\"],[1.0,\"#f0f921\"]]}],\"heatmapgl\":[{\"type\":\"heatmapgl\",\"colorbar\":{\"outlinewidth\":0,\"ticks\":\"\"},\"colorscale\":[[0.0,\"#0d0887\"],[0.1111111111111111,\"#46039f\"],[0.2222222222222222,\"#7201a8\"],[0.3333333333333333,\"#9c179e\"],[0.4444444444444444,\"#bd3786\"],[0.5555555555555556,\"#d8576b\"],[0.6666666666666666,\"#ed7953\"],[0.7777777777777778,\"#fb9f3a\"],[0.8888888888888888,\"#fdca26\"],[1.0,\"#f0f921\"]]}],\"contourcarpet\":[{\"type\":\"contourcarpet\",\"colorbar\":{\"outlinewidth\":0,\"ticks\":\"\"}}],\"contour\":[{\"type\":\"contour\",\"colorbar\":{\"outlinewidth\":0,\"ticks\":\"\"},\"colorscale\":[[0.0,\"#0d0887\"],[0.1111111111111111,\"#46039f\"],[0.2222222222222222,\"#7201a8\"],[0.3333333333333333,\"#9c179e\"],[0.4444444444444444,\"#bd3786\"],[0.5555555555555556,\"#d8576b\"],[0.6666666666666666,\"#ed7953\"],[0.7777777777777778,\"#fb9f3a\"],[0.8888888888888888,\"#fdca26\"],[1.0,\"#f0f921\"]]}],\"surface\":[{\"type\":\"surface\",\"colorbar\":{\"outlinewidth\":0,\"ticks\":\"\"},\"colorscale\":[[0.0,\"#0d0887\"],[0.1111111111111111,\"#46039f\"],[0.2222222222222222,\"#7201a8\"],[0.3333333333333333,\"#9c179e\"],[0.4444444444444444,\"#bd3786\"],[0.5555555555555556,\"#d8576b\"],[0.6666666666666666,\"#ed7953\"],[0.7777777777777778,\"#fb9f3a\"],[0.8888888888888888,\"#fdca26\"],[1.0,\"#f0f921\"]]}],\"mesh3d\":[{\"type\":\"mesh3d\",\"colorbar\":{\"outlinewidth\":0,\"ticks\":\"\"}}],\"scatter\":[{\"fillpattern\":{\"fillmode\":\"overlay\",\"size\":10,\"solidity\":0.2},\"type\":\"scatter\"}],\"parcoords\":[{\"type\":\"parcoords\",\"line\":{\"colorbar\":{\"outlinewidth\":0,\"ticks\":\"\"}}}],\"scatterpolargl\":[{\"type\":\"scatterpolargl\",\"marker\":{\"colorbar\":{\"outlinewidth\":0,\"ticks\":\"\"}}}],\"bar\":[{\"error_x\":{\"color\":\"#2a3f5f\"},\"error_y\":{\"color\":\"#2a3f5f\"},\"marker\":{\"line\":{\"color\":\"#E5ECF6\",\"width\":0.5},\"pattern\":{\"fillmode\":\"overlay\",\"size\":10,\"solidity\":0.2}},\"type\":\"bar\"}],\"scattergeo\":[{\"type\":\"scattergeo\",\"marker\":{\"colorbar\":{\"outlinewidth\":0,\"ticks\":\"\"}}}],\"scatterpolar\":[{\"type\":\"scatterpolar\",\"marker\":{\"colorbar\":{\"outlinewidth\":0,\"ticks\":\"\"}}}],\"histogram\":[{\"marker\":{\"pattern\":{\"fillmode\":\"overlay\",\"size\":10,\"solidity\":0.2}},\"type\":\"histogram\"}],\"scattergl\":[{\"type\":\"scattergl\",\"marker\":{\"colorbar\":{\"outlinewidth\":0,\"ticks\":\"\"}}}],\"scatter3d\":[{\"type\":\"scatter3d\",\"line\":{\"colorbar\":{\"outlinewidth\":0,\"ticks\":\"\"}},\"marker\":{\"colorbar\":{\"outlinewidth\":0,\"ticks\":\"\"}}}],\"scattermapbox\":[{\"type\":\"scattermapbox\",\"marker\":{\"colorbar\":{\"outlinewidth\":0,\"ticks\":\"\"}}}],\"scatterternary\":[{\"type\":\"scatterternary\",\"marker\":{\"colorbar\":{\"outlinewidth\":0,\"ticks\":\"\"}}}],\"scattercarpet\":[{\"type\":\"scattercarpet\",\"marker\":{\"colorbar\":{\"outlinewidth\":0,\"ticks\":\"\"}}}],\"carpet\":[{\"aaxis\":{\"endlinecolor\":\"#2a3f5f\",\"gridcolor\":\"white\",\"linecolor\":\"white\",\"minorgridcolor\":\"white\",\"startlinecolor\":\"#2a3f5f\"},\"baxis\":{\"endlinecolor\":\"#2a3f5f\",\"gridcolor\":\"white\",\"linecolor\":\"white\",\"minorgridcolor\":\"white\",\"startlinecolor\":\"#2a3f5f\"},\"type\":\"carpet\"}],\"table\":[{\"cells\":{\"fill\":{\"color\":\"#EBF0F8\"},\"line\":{\"color\":\"white\"}},\"header\":{\"fill\":{\"color\":\"#C8D4E3\"},\"line\":{\"color\":\"white\"}},\"type\":\"table\"}],\"barpolar\":[{\"marker\":{\"line\":{\"color\":\"#E5ECF6\",\"width\":0.5},\"pattern\":{\"fillmode\":\"overlay\",\"size\":10,\"solidity\":0.2}},\"type\":\"barpolar\"}],\"pie\":[{\"automargin\":true,\"type\":\"pie\"}]},\"layout\":{\"autotypenumbers\":\"strict\",\"colorway\":[\"#636efa\",\"#EF553B\",\"#00cc96\",\"#ab63fa\",\"#FFA15A\",\"#19d3f3\",\"#FF6692\",\"#B6E880\",\"#FF97FF\",\"#FECB52\"],\"font\":{\"color\":\"#2a3f5f\"},\"hovermode\":\"closest\",\"hoverlabel\":{\"align\":\"left\"},\"paper_bgcolor\":\"white\",\"plot_bgcolor\":\"#E5ECF6\",\"polar\":{\"bgcolor\":\"#E5ECF6\",\"angularaxis\":{\"gridcolor\":\"white\",\"linecolor\":\"white\",\"ticks\":\"\"},\"radialaxis\":{\"gridcolor\":\"white\",\"linecolor\":\"white\",\"ticks\":\"\"}},\"ternary\":{\"bgcolor\":\"#E5ECF6\",\"aaxis\":{\"gridcolor\":\"white\",\"linecolor\":\"white\",\"ticks\":\"\"},\"baxis\":{\"gridcolor\":\"white\",\"linecolor\":\"white\",\"ticks\":\"\"},\"caxis\":{\"gridcolor\":\"white\",\"linecolor\":\"white\",\"ticks\":\"\"}},\"coloraxis\":{\"colorbar\":{\"outlinewidth\":0,\"ticks\":\"\"}},\"colorscale\":{\"sequential\":[[0.0,\"#0d0887\"],[0.1111111111111111,\"#46039f\"],[0.2222222222222222,\"#7201a8\"],[0.3333333333333333,\"#9c179e\"],[0.4444444444444444,\"#bd3786\"],[0.5555555555555556,\"#d8576b\"],[0.6666666666666666,\"#ed7953\"],[0.7777777777777778,\"#fb9f3a\"],[0.8888888888888888,\"#fdca26\"],[1.0,\"#f0f921\"]],\"sequentialminus\":[[0.0,\"#0d0887\"],[0.1111111111111111,\"#46039f\"],[0.2222222222222222,\"#7201a8\"],[0.3333333333333333,\"#9c179e\"],[0.4444444444444444,\"#bd3786\"],[0.5555555555555556,\"#d8576b\"],[0.6666666666666666,\"#ed7953\"],[0.7777777777777778,\"#fb9f3a\"],[0.8888888888888888,\"#fdca26\"],[1.0,\"#f0f921\"]],\"diverging\":[[0,\"#8e0152\"],[0.1,\"#c51b7d\"],[0.2,\"#de77ae\"],[0.3,\"#f1b6da\"],[0.4,\"#fde0ef\"],[0.5,\"#f7f7f7\"],[0.6,\"#e6f5d0\"],[0.7,\"#b8e186\"],[0.8,\"#7fbc41\"],[0.9,\"#4d9221\"],[1,\"#276419\"]]},\"xaxis\":{\"gridcolor\":\"white\",\"linecolor\":\"white\",\"ticks\":\"\",\"title\":{\"standoff\":15},\"zerolinecolor\":\"white\",\"automargin\":true,\"zerolinewidth\":2},\"yaxis\":{\"gridcolor\":\"white\",\"linecolor\":\"white\",\"ticks\":\"\",\"title\":{\"standoff\":15},\"zerolinecolor\":\"white\",\"automargin\":true,\"zerolinewidth\":2},\"scene\":{\"xaxis\":{\"backgroundcolor\":\"#E5ECF6\",\"gridcolor\":\"white\",\"linecolor\":\"white\",\"showbackground\":true,\"ticks\":\"\",\"zerolinecolor\":\"white\",\"gridwidth\":2},\"yaxis\":{\"backgroundcolor\":\"#E5ECF6\",\"gridcolor\":\"white\",\"linecolor\":\"white\",\"showbackground\":true,\"ticks\":\"\",\"zerolinecolor\":\"white\",\"gridwidth\":2},\"zaxis\":{\"backgroundcolor\":\"#E5ECF6\",\"gridcolor\":\"white\",\"linecolor\":\"white\",\"showbackground\":true,\"ticks\":\"\",\"zerolinecolor\":\"white\",\"gridwidth\":2}},\"shapedefaults\":{\"line\":{\"color\":\"#2a3f5f\"}},\"annotationdefaults\":{\"arrowcolor\":\"#2a3f5f\",\"arrowhead\":0,\"arrowwidth\":1},\"geo\":{\"bgcolor\":\"white\",\"landcolor\":\"#E5ECF6\",\"subunitcolor\":\"white\",\"showland\":true,\"showlakes\":true,\"lakecolor\":\"white\"},\"title\":{\"x\":0.05},\"mapbox\":{\"style\":\"light\"}}}},                        {\"responsive\": true}                    ).then(function(){\n",
              "                            \n",
              "var gd = document.getElementById('51fecb92-a22b-4d36-8566-5e868cf0fae3');\n",
              "var x = new MutationObserver(function (mutations, observer) {{\n",
              "        var display = window.getComputedStyle(gd).display;\n",
              "        if (!display || display === 'none') {{\n",
              "            console.log([gd, 'removed!']);\n",
              "            Plotly.purge(gd);\n",
              "            observer.disconnect();\n",
              "        }}\n",
              "}});\n",
              "\n",
              "// Listen for the removal of the full notebook cells\n",
              "var notebookContainer = gd.closest('#notebook-container');\n",
              "if (notebookContainer) {{\n",
              "    x.observe(notebookContainer, {childList: true});\n",
              "}}\n",
              "\n",
              "// Listen for the clearing of the current output cell\n",
              "var outputEl = gd.closest('.output');\n",
              "if (outputEl) {{\n",
              "    x.observe(outputEl, {childList: true});\n",
              "}}\n",
              "\n",
              "                        })                };                            </script>        </div>\n",
              "</body>\n",
              "</html>"
            ]
          },
          "metadata": {}
        }
      ]
    },
    {
      "cell_type": "code",
      "source": [
        "optuna.visualization.plot_slice(study, params=['n_estimators', 'max_depth', 'min_samples_leaf', 'min_samples_split'])"
      ],
      "metadata": {
        "colab": {
          "base_uri": "https://localhost:8080/",
          "height": 542
        },
        "id": "nHW7-0CV38Es",
        "outputId": "59cb2633-f640-4f89-9aba-d288b3756108"
      },
      "execution_count": 7,
      "outputs": [
        {
          "output_type": "display_data",
          "data": {
            "text/html": [
              "<html>\n",
              "<head><meta charset=\"utf-8\" /></head>\n",
              "<body>\n",
              "    <div>            <script src=\"https://cdnjs.cloudflare.com/ajax/libs/mathjax/2.7.5/MathJax.js?config=TeX-AMS-MML_SVG\"></script><script type=\"text/javascript\">if (window.MathJax && window.MathJax.Hub && window.MathJax.Hub.Config) {window.MathJax.Hub.Config({SVG: {font: \"STIX-Web\"}});}</script>                <script type=\"text/javascript\">window.PlotlyConfig = {MathJaxConfig: 'local'};</script>\n",
              "        <script charset=\"utf-8\" src=\"https://cdn.plot.ly/plotly-2.35.2.min.js\"></script>                <div id=\"567f2710-e250-43b6-a21c-e6c6177c433d\" class=\"plotly-graph-div\" style=\"height:525px; width:1200px;\"></div>            <script type=\"text/javascript\">                                    window.PLOTLYENV=window.PLOTLYENV || {};                                    if (document.getElementById(\"567f2710-e250-43b6-a21c-e6c6177c433d\")) {                    Plotly.newPlot(                        \"567f2710-e250-43b6-a21c-e6c6177c433d\",                        [{\"marker\":{\"color\":[0,1,2,3,4,5,6,7,8,9,10,11,12,13,14,15,16,17,18,19,20,21,22,23,24,25,26,27,28,29,30,31,32,33,34,35,36,37,38,39,40,41,42,43,44,45,46,47,48,49,50,51,52,53,54,55,56,57,58,59,60,61,62,63,64,65,66,67,68,69,70,71,72,73,74,75,76,77,78,79,80,81,82,83,84,85,86,87,88,89,90,91,92,93,94,95,96,97,98,99],\"colorbar\":{\"title\":{\"text\":\"Trial\"},\"x\":1.0,\"xpad\":40},\"colorscale\":[[0.0,\"rgb(247,251,255)\"],[0.125,\"rgb(222,235,247)\"],[0.25,\"rgb(198,219,239)\"],[0.375,\"rgb(158,202,225)\"],[0.5,\"rgb(107,174,214)\"],[0.625,\"rgb(66,146,198)\"],[0.75,\"rgb(33,113,181)\"],[0.875,\"rgb(8,81,156)\"],[1.0,\"rgb(8,48,107)\"]],\"line\":{\"color\":\"Grey\",\"width\":0.5},\"showscale\":true},\"mode\":\"markers\",\"name\":\"Feasible Trial\",\"showlegend\":false,\"x\":[48,16,39,18,31,15,42,11,48,14,30,37,17,46,18,21,32,50,43,13,35,23,29,33,27,36,20,13,43,17,46,27,30,23,38,20,11,21,30,41,35,44,34,19,25,14,37,19,35,46,13,10,16,19,40,33,20,35,30,10,49,48,44,22,38,50,40,22,47,36,23,11,34,24,18,31,50,21,49,17,39,40,20,14,38,29,35,35,16,34,36,25,12,38,10,38,42,43,41,27],\"y\":[-4.502017696233201,-5.17020291237105,-5.6033026031825175,-2.997774315886926,-3.8149133428323845,-3.8580312892840105,-4.079827568772584,-3.2684195666591926,-5.070542477746006,-3.8928421945052785,-5.366142141734764,-4.071381725597152,-4.97881072662228,-5.330345386071027,-3.855111242647284,-3.8725248005621937,-5.023021525493145,-3.354999151404688,-5.032966231226029,-2.6910895922904827,-2.518166393121486,-4.651434149748537,-4.909396350077957,-3.9805040929366946,-2.377674335794426,-4.082595787879278,-5.023139006634244,-2.9909897036757305,-5.146011624416547,-4.205092803371553,-2.5641578490779633,-5.138142358138588,-3.5114434389616624,-3.885234534214226,-5.623093272447841,-3.8244998920662048,-4.045756541588638,-3.781664320930647,-3.8143436832193927,-4.924004816700357,-4.228264898119876,-3.021405255977505,-3.2598199908027636,-3.3043477158923773,-3.4849109018323077,-5.254188404029544,-4.165453431670454,-5.203098189595531,-3.8321859441357886,-5.026425012240428,-5.2867078052019965,-4.773833082912177,-4.840891454792421,-3.6268475184661417,-5.147688382646628,-3.794363426792272,-3.883901562606598,-4.04655707127566,-4.985396709051839,-3.2914060838819355,-3.8532944785226464,-5.554475153505855,-3.852698540988217,-4.182817965769625,-2.971525967818461,-4.097550904879603,-4.8860009653453025,-5.09938310528532,-4.044989343818268,-5.0572339178571095,-2.619866475663102,-4.220033117995157,-1.8641536739529108,-4.07793850254852,-3.072746324126943,-4.5670416889085335,-3.834168082246542,-2.7155627687556034,-4.8364374438326205,-3.732613294612225,-3.744556393714755,-4.541106312301859,-5.042691894926645,-1.9342643064971932,-2.803850325464797,-3.8781189453693203,-3.1216108759514043,-5.171803078860318,-4.5956770047647755,-4.342652116125697,-4.215888466587079,-5.2570739975399885,-1.9446787050094438,-3.8740028989020265,-3.812526574946078,-5.22043017152723,-2.972139215470089,-3.8963557954696,-5.343419250656418,-5.045861342525099],\"type\":\"scatter\",\"xaxis\":\"x\",\"yaxis\":\"y\"},{\"marker\":{\"color\":[0,1,2,3,4,5,6,7,8,9,10,11,12,13,14,15,16,17,18,19,20,21,22,23,24,25,26,27,28,29,30,31,32,33,34,35,36,37,38,39,40,41,42,43,44,45,46,47,48,49,50,51,52,53,54,55,56,57,58,59,60,61,62,63,64,65,66,67,68,69,70,71,72,73,74,75,76,77,78,79,80,81,82,83,84,85,86,87,88,89,90,91,92,93,94,95,96,97,98,99],\"colorbar\":{\"title\":{\"text\":\"Trial\"},\"x\":1.0,\"xpad\":40},\"colorscale\":[[0.0,\"rgb(247,251,255)\"],[0.125,\"rgb(222,235,247)\"],[0.25,\"rgb(198,219,239)\"],[0.375,\"rgb(158,202,225)\"],[0.5,\"rgb(107,174,214)\"],[0.625,\"rgb(66,146,198)\"],[0.75,\"rgb(33,113,181)\"],[0.875,\"rgb(8,81,156)\"],[1.0,\"rgb(8,48,107)\"]],\"line\":{\"color\":\"Grey\",\"width\":0.5},\"showscale\":false},\"mode\":\"markers\",\"name\":\"Feasible Trial\",\"showlegend\":false,\"x\":[20,28,32,6,10,12,17,6,26,15,30,17,25,30,11,12,26,7,24,4,3,21,23,16,4,17,25,6,28,18,4,28,8,11,32,10,17,8,8,24,18,6,1,6,5,29,18,29,12,25,29,22,23,8,28,12,13,17,24,6,12,31,13,18,4,17,23,26,17,26,4,18,2,17,3,21,11,3,23,9,9,20,25,2,4,14,2,28,21,19,18,29,1,11,10,29,6,14,30,25],\"y\":[-4.502017696233201,-5.17020291237105,-5.6033026031825175,-2.997774315886926,-3.8149133428323845,-3.8580312892840105,-4.079827568772584,-3.2684195666591926,-5.070542477746006,-3.8928421945052785,-5.366142141734764,-4.071381725597152,-4.97881072662228,-5.330345386071027,-3.855111242647284,-3.8725248005621937,-5.023021525493145,-3.354999151404688,-5.032966231226029,-2.6910895922904827,-2.518166393121486,-4.651434149748537,-4.909396350077957,-3.9805040929366946,-2.377674335794426,-4.082595787879278,-5.023139006634244,-2.9909897036757305,-5.146011624416547,-4.205092803371553,-2.5641578490779633,-5.138142358138588,-3.5114434389616624,-3.885234534214226,-5.623093272447841,-3.8244998920662048,-4.045756541588638,-3.781664320930647,-3.8143436832193927,-4.924004816700357,-4.228264898119876,-3.021405255977505,-3.2598199908027636,-3.3043477158923773,-3.4849109018323077,-5.254188404029544,-4.165453431670454,-5.203098189595531,-3.8321859441357886,-5.026425012240428,-5.2867078052019965,-4.773833082912177,-4.840891454792421,-3.6268475184661417,-5.147688382646628,-3.794363426792272,-3.883901562606598,-4.04655707127566,-4.985396709051839,-3.2914060838819355,-3.8532944785226464,-5.554475153505855,-3.852698540988217,-4.182817965769625,-2.971525967818461,-4.097550904879603,-4.8860009653453025,-5.09938310528532,-4.044989343818268,-5.0572339178571095,-2.619866475663102,-4.220033117995157,-1.8641536739529108,-4.07793850254852,-3.072746324126943,-4.5670416889085335,-3.834168082246542,-2.7155627687556034,-4.8364374438326205,-3.732613294612225,-3.744556393714755,-4.541106312301859,-5.042691894926645,-1.9342643064971932,-2.803850325464797,-3.8781189453693203,-3.1216108759514043,-5.171803078860318,-4.5956770047647755,-4.342652116125697,-4.215888466587079,-5.2570739975399885,-1.9446787050094438,-3.8740028989020265,-3.812526574946078,-5.22043017152723,-2.972139215470089,-3.8963557954696,-5.343419250656418,-5.045861342525099],\"type\":\"scatter\",\"xaxis\":\"x2\",\"yaxis\":\"y2\"},{\"marker\":{\"color\":[0,1,2,3,4,5,6,7,8,9,10,11,12,13,14,15,16,17,18,19,20,21,22,23,24,25,26,27,28,29,30,31,32,33,34,35,36,37,38,39,40,41,42,43,44,45,46,47,48,49,50,51,52,53,54,55,56,57,58,59,60,61,62,63,64,65,66,67,68,69,70,71,72,73,74,75,76,77,78,79,80,81,82,83,84,85,86,87,88,89,90,91,92,93,94,95,96,97,98,99],\"colorbar\":{\"title\":{\"text\":\"Trial\"},\"x\":1.0,\"xpad\":40},\"colorscale\":[[0.0,\"rgb(247,251,255)\"],[0.125,\"rgb(222,235,247)\"],[0.25,\"rgb(198,219,239)\"],[0.375,\"rgb(158,202,225)\"],[0.5,\"rgb(107,174,214)\"],[0.625,\"rgb(66,146,198)\"],[0.75,\"rgb(33,113,181)\"],[0.875,\"rgb(8,81,156)\"],[1.0,\"rgb(8,48,107)\"]],\"line\":{\"color\":\"Grey\",\"width\":0.5},\"showscale\":false},\"mode\":\"markers\",\"name\":\"Feasible Trial\",\"showlegend\":false,\"x\":[24,3,2,7,15,11,8,20,31,23,3,11,32,20,3,27,6,25,23,13,12,24,5,25,2,11,14,10,21,29,11,27,14,31,13,17,20,30,32,9,21,11,23,22,31,30,27,4,12,29,7,5,19,24,22,4,32,26,8,22,30,15,11,7,19,6,23,27,17,23,13,16,2,5,21,18,18,15,27,6,22,19,13,3,16,7,21,17,4,31,16,31,5,4,27,21,10,32,12,25],\"y\":[-4.502017696233201,-5.17020291237105,-5.6033026031825175,-2.997774315886926,-3.8149133428323845,-3.8580312892840105,-4.079827568772584,-3.2684195666591926,-5.070542477746006,-3.8928421945052785,-5.366142141734764,-4.071381725597152,-4.97881072662228,-5.330345386071027,-3.855111242647284,-3.8725248005621937,-5.023021525493145,-3.354999151404688,-5.032966231226029,-2.6910895922904827,-2.518166393121486,-4.651434149748537,-4.909396350077957,-3.9805040929366946,-2.377674335794426,-4.082595787879278,-5.023139006634244,-2.9909897036757305,-5.146011624416547,-4.205092803371553,-2.5641578490779633,-5.138142358138588,-3.5114434389616624,-3.885234534214226,-5.623093272447841,-3.8244998920662048,-4.045756541588638,-3.781664320930647,-3.8143436832193927,-4.924004816700357,-4.228264898119876,-3.021405255977505,-3.2598199908027636,-3.3043477158923773,-3.4849109018323077,-5.254188404029544,-4.165453431670454,-5.203098189595531,-3.8321859441357886,-5.026425012240428,-5.2867078052019965,-4.773833082912177,-4.840891454792421,-3.6268475184661417,-5.147688382646628,-3.794363426792272,-3.883901562606598,-4.04655707127566,-4.985396709051839,-3.2914060838819355,-3.8532944785226464,-5.554475153505855,-3.852698540988217,-4.182817965769625,-2.971525967818461,-4.097550904879603,-4.8860009653453025,-5.09938310528532,-4.044989343818268,-5.0572339178571095,-2.619866475663102,-4.220033117995157,-1.8641536739529108,-4.07793850254852,-3.072746324126943,-4.5670416889085335,-3.834168082246542,-2.7155627687556034,-4.8364374438326205,-3.732613294612225,-3.744556393714755,-4.541106312301859,-5.042691894926645,-1.9342643064971932,-2.803850325464797,-3.8781189453693203,-3.1216108759514043,-5.171803078860318,-4.5956770047647755,-4.342652116125697,-4.215888466587079,-5.2570739975399885,-1.9446787050094438,-3.8740028989020265,-3.812526574946078,-5.22043017152723,-2.972139215470089,-3.8963557954696,-5.343419250656418,-5.045861342525099],\"type\":\"scatter\",\"xaxis\":\"x3\",\"yaxis\":\"y3\"},{\"marker\":{\"color\":[0,1,2,3,4,5,6,7,8,9,10,11,12,13,14,15,16,17,18,19,20,21,22,23,24,25,26,27,28,29,30,31,32,33,34,35,36,37,38,39,40,41,42,43,44,45,46,47,48,49,50,51,52,53,54,55,56,57,58,59,60,61,62,63,64,65,66,67,68,69,70,71,72,73,74,75,76,77,78,79,80,81,82,83,84,85,86,87,88,89,90,91,92,93,94,95,96,97,98,99],\"colorbar\":{\"title\":{\"text\":\"Trial\"},\"x\":1.0,\"xpad\":40},\"colorscale\":[[0.0,\"rgb(247,251,255)\"],[0.125,\"rgb(222,235,247)\"],[0.25,\"rgb(198,219,239)\"],[0.375,\"rgb(158,202,225)\"],[0.5,\"rgb(107,174,214)\"],[0.625,\"rgb(66,146,198)\"],[0.75,\"rgb(33,113,181)\"],[0.875,\"rgb(8,81,156)\"],[1.0,\"rgb(8,48,107)\"]],\"line\":{\"color\":\"Grey\",\"width\":0.5},\"showscale\":false},\"mode\":\"markers\",\"name\":\"Feasible Trial\",\"showlegend\":false,\"x\":[437,240,641,850,374,651,510,633,158,374,209,333,592,946,179,450,353,167,104,794,877,380,899,785,570,128,917,306,937,824,827,305,106,207,567,967,356,146,230,705,431,181,136,561,722,407,332,577,911,754,678,646,104,687,393,692,338,903,619,352,947,113,968,866,943,654,890,423,881,819,901,621,358,841,793,146,754,816,122,468,594,960,478,112,870,542,459,437,693,123,449,948,276,185,861,206,762,776,435,873],\"y\":[-4.502017696233201,-5.17020291237105,-5.6033026031825175,-2.997774315886926,-3.8149133428323845,-3.8580312892840105,-4.079827568772584,-3.2684195666591926,-5.070542477746006,-3.8928421945052785,-5.366142141734764,-4.071381725597152,-4.97881072662228,-5.330345386071027,-3.855111242647284,-3.8725248005621937,-5.023021525493145,-3.354999151404688,-5.032966231226029,-2.6910895922904827,-2.518166393121486,-4.651434149748537,-4.909396350077957,-3.9805040929366946,-2.377674335794426,-4.082595787879278,-5.023139006634244,-2.9909897036757305,-5.146011624416547,-4.205092803371553,-2.5641578490779633,-5.138142358138588,-3.5114434389616624,-3.885234534214226,-5.623093272447841,-3.8244998920662048,-4.045756541588638,-3.781664320930647,-3.8143436832193927,-4.924004816700357,-4.228264898119876,-3.021405255977505,-3.2598199908027636,-3.3043477158923773,-3.4849109018323077,-5.254188404029544,-4.165453431670454,-5.203098189595531,-3.8321859441357886,-5.026425012240428,-5.2867078052019965,-4.773833082912177,-4.840891454792421,-3.6268475184661417,-5.147688382646628,-3.794363426792272,-3.883901562606598,-4.04655707127566,-4.985396709051839,-3.2914060838819355,-3.8532944785226464,-5.554475153505855,-3.852698540988217,-4.182817965769625,-2.971525967818461,-4.097550904879603,-4.8860009653453025,-5.09938310528532,-4.044989343818268,-5.0572339178571095,-2.619866475663102,-4.220033117995157,-1.8641536739529108,-4.07793850254852,-3.072746324126943,-4.5670416889085335,-3.834168082246542,-2.7155627687556034,-4.8364374438326205,-3.732613294612225,-3.744556393714755,-4.541106312301859,-5.042691894926645,-1.9342643064971932,-2.803850325464797,-3.8781189453693203,-3.1216108759514043,-5.171803078860318,-4.5956770047647755,-4.342652116125697,-4.215888466587079,-5.2570739975399885,-1.9446787050094438,-3.8740028989020265,-3.812526574946078,-5.22043017152723,-2.972139215470089,-3.8963557954696,-5.343419250656418,-5.045861342525099],\"type\":\"scatter\",\"xaxis\":\"x4\",\"yaxis\":\"y4\"}],                        {\"template\":{\"data\":{\"histogram2dcontour\":[{\"type\":\"histogram2dcontour\",\"colorbar\":{\"outlinewidth\":0,\"ticks\":\"\"},\"colorscale\":[[0.0,\"#0d0887\"],[0.1111111111111111,\"#46039f\"],[0.2222222222222222,\"#7201a8\"],[0.3333333333333333,\"#9c179e\"],[0.4444444444444444,\"#bd3786\"],[0.5555555555555556,\"#d8576b\"],[0.6666666666666666,\"#ed7953\"],[0.7777777777777778,\"#fb9f3a\"],[0.8888888888888888,\"#fdca26\"],[1.0,\"#f0f921\"]]}],\"choropleth\":[{\"type\":\"choropleth\",\"colorbar\":{\"outlinewidth\":0,\"ticks\":\"\"}}],\"histogram2d\":[{\"type\":\"histogram2d\",\"colorbar\":{\"outlinewidth\":0,\"ticks\":\"\"},\"colorscale\":[[0.0,\"#0d0887\"],[0.1111111111111111,\"#46039f\"],[0.2222222222222222,\"#7201a8\"],[0.3333333333333333,\"#9c179e\"],[0.4444444444444444,\"#bd3786\"],[0.5555555555555556,\"#d8576b\"],[0.6666666666666666,\"#ed7953\"],[0.7777777777777778,\"#fb9f3a\"],[0.8888888888888888,\"#fdca26\"],[1.0,\"#f0f921\"]]}],\"heatmap\":[{\"type\":\"heatmap\",\"colorbar\":{\"outlinewidth\":0,\"ticks\":\"\"},\"colorscale\":[[0.0,\"#0d0887\"],[0.1111111111111111,\"#46039f\"],[0.2222222222222222,\"#7201a8\"],[0.3333333333333333,\"#9c179e\"],[0.4444444444444444,\"#bd3786\"],[0.5555555555555556,\"#d8576b\"],[0.6666666666666666,\"#ed7953\"],[0.7777777777777778,\"#fb9f3a\"],[0.8888888888888888,\"#fdca26\"],[1.0,\"#f0f921\"]]}],\"heatmapgl\":[{\"type\":\"heatmapgl\",\"colorbar\":{\"outlinewidth\":0,\"ticks\":\"\"},\"colorscale\":[[0.0,\"#0d0887\"],[0.1111111111111111,\"#46039f\"],[0.2222222222222222,\"#7201a8\"],[0.3333333333333333,\"#9c179e\"],[0.4444444444444444,\"#bd3786\"],[0.5555555555555556,\"#d8576b\"],[0.6666666666666666,\"#ed7953\"],[0.7777777777777778,\"#fb9f3a\"],[0.8888888888888888,\"#fdca26\"],[1.0,\"#f0f921\"]]}],\"contourcarpet\":[{\"type\":\"contourcarpet\",\"colorbar\":{\"outlinewidth\":0,\"ticks\":\"\"}}],\"contour\":[{\"type\":\"contour\",\"colorbar\":{\"outlinewidth\":0,\"ticks\":\"\"},\"colorscale\":[[0.0,\"#0d0887\"],[0.1111111111111111,\"#46039f\"],[0.2222222222222222,\"#7201a8\"],[0.3333333333333333,\"#9c179e\"],[0.4444444444444444,\"#bd3786\"],[0.5555555555555556,\"#d8576b\"],[0.6666666666666666,\"#ed7953\"],[0.7777777777777778,\"#fb9f3a\"],[0.8888888888888888,\"#fdca26\"],[1.0,\"#f0f921\"]]}],\"surface\":[{\"type\":\"surface\",\"colorbar\":{\"outlinewidth\":0,\"ticks\":\"\"},\"colorscale\":[[0.0,\"#0d0887\"],[0.1111111111111111,\"#46039f\"],[0.2222222222222222,\"#7201a8\"],[0.3333333333333333,\"#9c179e\"],[0.4444444444444444,\"#bd3786\"],[0.5555555555555556,\"#d8576b\"],[0.6666666666666666,\"#ed7953\"],[0.7777777777777778,\"#fb9f3a\"],[0.8888888888888888,\"#fdca26\"],[1.0,\"#f0f921\"]]}],\"mesh3d\":[{\"type\":\"mesh3d\",\"colorbar\":{\"outlinewidth\":0,\"ticks\":\"\"}}],\"scatter\":[{\"fillpattern\":{\"fillmode\":\"overlay\",\"size\":10,\"solidity\":0.2},\"type\":\"scatter\"}],\"parcoords\":[{\"type\":\"parcoords\",\"line\":{\"colorbar\":{\"outlinewidth\":0,\"ticks\":\"\"}}}],\"scatterpolargl\":[{\"type\":\"scatterpolargl\",\"marker\":{\"colorbar\":{\"outlinewidth\":0,\"ticks\":\"\"}}}],\"bar\":[{\"error_x\":{\"color\":\"#2a3f5f\"},\"error_y\":{\"color\":\"#2a3f5f\"},\"marker\":{\"line\":{\"color\":\"#E5ECF6\",\"width\":0.5},\"pattern\":{\"fillmode\":\"overlay\",\"size\":10,\"solidity\":0.2}},\"type\":\"bar\"}],\"scattergeo\":[{\"type\":\"scattergeo\",\"marker\":{\"colorbar\":{\"outlinewidth\":0,\"ticks\":\"\"}}}],\"scatterpolar\":[{\"type\":\"scatterpolar\",\"marker\":{\"colorbar\":{\"outlinewidth\":0,\"ticks\":\"\"}}}],\"histogram\":[{\"marker\":{\"pattern\":{\"fillmode\":\"overlay\",\"size\":10,\"solidity\":0.2}},\"type\":\"histogram\"}],\"scattergl\":[{\"type\":\"scattergl\",\"marker\":{\"colorbar\":{\"outlinewidth\":0,\"ticks\":\"\"}}}],\"scatter3d\":[{\"type\":\"scatter3d\",\"line\":{\"colorbar\":{\"outlinewidth\":0,\"ticks\":\"\"}},\"marker\":{\"colorbar\":{\"outlinewidth\":0,\"ticks\":\"\"}}}],\"scattermapbox\":[{\"type\":\"scattermapbox\",\"marker\":{\"colorbar\":{\"outlinewidth\":0,\"ticks\":\"\"}}}],\"scatterternary\":[{\"type\":\"scatterternary\",\"marker\":{\"colorbar\":{\"outlinewidth\":0,\"ticks\":\"\"}}}],\"scattercarpet\":[{\"type\":\"scattercarpet\",\"marker\":{\"colorbar\":{\"outlinewidth\":0,\"ticks\":\"\"}}}],\"carpet\":[{\"aaxis\":{\"endlinecolor\":\"#2a3f5f\",\"gridcolor\":\"white\",\"linecolor\":\"white\",\"minorgridcolor\":\"white\",\"startlinecolor\":\"#2a3f5f\"},\"baxis\":{\"endlinecolor\":\"#2a3f5f\",\"gridcolor\":\"white\",\"linecolor\":\"white\",\"minorgridcolor\":\"white\",\"startlinecolor\":\"#2a3f5f\"},\"type\":\"carpet\"}],\"table\":[{\"cells\":{\"fill\":{\"color\":\"#EBF0F8\"},\"line\":{\"color\":\"white\"}},\"header\":{\"fill\":{\"color\":\"#C8D4E3\"},\"line\":{\"color\":\"white\"}},\"type\":\"table\"}],\"barpolar\":[{\"marker\":{\"line\":{\"color\":\"#E5ECF6\",\"width\":0.5},\"pattern\":{\"fillmode\":\"overlay\",\"size\":10,\"solidity\":0.2}},\"type\":\"barpolar\"}],\"pie\":[{\"automargin\":true,\"type\":\"pie\"}]},\"layout\":{\"autotypenumbers\":\"strict\",\"colorway\":[\"#636efa\",\"#EF553B\",\"#00cc96\",\"#ab63fa\",\"#FFA15A\",\"#19d3f3\",\"#FF6692\",\"#B6E880\",\"#FF97FF\",\"#FECB52\"],\"font\":{\"color\":\"#2a3f5f\"},\"hovermode\":\"closest\",\"hoverlabel\":{\"align\":\"left\"},\"paper_bgcolor\":\"white\",\"plot_bgcolor\":\"#E5ECF6\",\"polar\":{\"bgcolor\":\"#E5ECF6\",\"angularaxis\":{\"gridcolor\":\"white\",\"linecolor\":\"white\",\"ticks\":\"\"},\"radialaxis\":{\"gridcolor\":\"white\",\"linecolor\":\"white\",\"ticks\":\"\"}},\"ternary\":{\"bgcolor\":\"#E5ECF6\",\"aaxis\":{\"gridcolor\":\"white\",\"linecolor\":\"white\",\"ticks\":\"\"},\"baxis\":{\"gridcolor\":\"white\",\"linecolor\":\"white\",\"ticks\":\"\"},\"caxis\":{\"gridcolor\":\"white\",\"linecolor\":\"white\",\"ticks\":\"\"}},\"coloraxis\":{\"colorbar\":{\"outlinewidth\":0,\"ticks\":\"\"}},\"colorscale\":{\"sequential\":[[0.0,\"#0d0887\"],[0.1111111111111111,\"#46039f\"],[0.2222222222222222,\"#7201a8\"],[0.3333333333333333,\"#9c179e\"],[0.4444444444444444,\"#bd3786\"],[0.5555555555555556,\"#d8576b\"],[0.6666666666666666,\"#ed7953\"],[0.7777777777777778,\"#fb9f3a\"],[0.8888888888888888,\"#fdca26\"],[1.0,\"#f0f921\"]],\"sequentialminus\":[[0.0,\"#0d0887\"],[0.1111111111111111,\"#46039f\"],[0.2222222222222222,\"#7201a8\"],[0.3333333333333333,\"#9c179e\"],[0.4444444444444444,\"#bd3786\"],[0.5555555555555556,\"#d8576b\"],[0.6666666666666666,\"#ed7953\"],[0.7777777777777778,\"#fb9f3a\"],[0.8888888888888888,\"#fdca26\"],[1.0,\"#f0f921\"]],\"diverging\":[[0,\"#8e0152\"],[0.1,\"#c51b7d\"],[0.2,\"#de77ae\"],[0.3,\"#f1b6da\"],[0.4,\"#fde0ef\"],[0.5,\"#f7f7f7\"],[0.6,\"#e6f5d0\"],[0.7,\"#b8e186\"],[0.8,\"#7fbc41\"],[0.9,\"#4d9221\"],[1,\"#276419\"]]},\"xaxis\":{\"gridcolor\":\"white\",\"linecolor\":\"white\",\"ticks\":\"\",\"title\":{\"standoff\":15},\"zerolinecolor\":\"white\",\"automargin\":true,\"zerolinewidth\":2},\"yaxis\":{\"gridcolor\":\"white\",\"linecolor\":\"white\",\"ticks\":\"\",\"title\":{\"standoff\":15},\"zerolinecolor\":\"white\",\"automargin\":true,\"zerolinewidth\":2},\"scene\":{\"xaxis\":{\"backgroundcolor\":\"#E5ECF6\",\"gridcolor\":\"white\",\"linecolor\":\"white\",\"showbackground\":true,\"ticks\":\"\",\"zerolinecolor\":\"white\",\"gridwidth\":2},\"yaxis\":{\"backgroundcolor\":\"#E5ECF6\",\"gridcolor\":\"white\",\"linecolor\":\"white\",\"showbackground\":true,\"ticks\":\"\",\"zerolinecolor\":\"white\",\"gridwidth\":2},\"zaxis\":{\"backgroundcolor\":\"#E5ECF6\",\"gridcolor\":\"white\",\"linecolor\":\"white\",\"showbackground\":true,\"ticks\":\"\",\"zerolinecolor\":\"white\",\"gridwidth\":2}},\"shapedefaults\":{\"line\":{\"color\":\"#2a3f5f\"}},\"annotationdefaults\":{\"arrowcolor\":\"#2a3f5f\",\"arrowhead\":0,\"arrowwidth\":1},\"geo\":{\"bgcolor\":\"white\",\"landcolor\":\"#E5ECF6\",\"subunitcolor\":\"white\",\"showland\":true,\"showlakes\":true,\"lakecolor\":\"white\"},\"title\":{\"x\":0.05},\"mapbox\":{\"style\":\"light\"}}},\"xaxis\":{\"anchor\":\"y\",\"domain\":[0.0,0.2125],\"title\":{\"text\":\"max_depth\"}},\"yaxis\":{\"anchor\":\"x\",\"domain\":[0.0,1.0],\"title\":{\"text\":\"Objective Value\"}},\"xaxis2\":{\"anchor\":\"y2\",\"domain\":[0.2625,0.475],\"title\":{\"text\":\"min_samples_leaf\"}},\"yaxis2\":{\"anchor\":\"x2\",\"domain\":[0.0,1.0],\"matches\":\"y\",\"showticklabels\":false},\"xaxis3\":{\"anchor\":\"y3\",\"domain\":[0.525,0.7375],\"title\":{\"text\":\"min_samples_split\"}},\"yaxis3\":{\"anchor\":\"x3\",\"domain\":[0.0,1.0],\"matches\":\"y\",\"showticklabels\":false},\"xaxis4\":{\"anchor\":\"y4\",\"domain\":[0.7875,1.0],\"title\":{\"text\":\"n_estimators\"}},\"yaxis4\":{\"anchor\":\"x4\",\"domain\":[0.0,1.0],\"matches\":\"y\",\"showticklabels\":false},\"title\":{\"text\":\"Slice Plot\"},\"width\":1200},                        {\"responsive\": true}                    ).then(function(){\n",
              "                            \n",
              "var gd = document.getElementById('567f2710-e250-43b6-a21c-e6c6177c433d');\n",
              "var x = new MutationObserver(function (mutations, observer) {{\n",
              "        var display = window.getComputedStyle(gd).display;\n",
              "        if (!display || display === 'none') {{\n",
              "            console.log([gd, 'removed!']);\n",
              "            Plotly.purge(gd);\n",
              "            observer.disconnect();\n",
              "        }}\n",
              "}});\n",
              "\n",
              "// Listen for the removal of the full notebook cells\n",
              "var notebookContainer = gd.closest('#notebook-container');\n",
              "if (notebookContainer) {{\n",
              "    x.observe(notebookContainer, {childList: true});\n",
              "}}\n",
              "\n",
              "// Listen for the clearing of the current output cell\n",
              "var outputEl = gd.closest('.output');\n",
              "if (outputEl) {{\n",
              "    x.observe(outputEl, {childList: true});\n",
              "}}\n",
              "\n",
              "                        })                };                            </script>        </div>\n",
              "</body>\n",
              "</html>"
            ]
          },
          "metadata": {}
        }
      ]
    },
    {
      "cell_type": "code",
      "source": [
        "optuna.visualization.plot_param_importances(study)"
      ],
      "metadata": {
        "colab": {
          "base_uri": "https://localhost:8080/",
          "height": 542
        },
        "id": "8qtvUZqP4AZs",
        "outputId": "20be8f65-c283-4bc8-a36a-0ea10784875f"
      },
      "execution_count": 8,
      "outputs": [
        {
          "output_type": "display_data",
          "data": {
            "text/html": [
              "<html>\n",
              "<head><meta charset=\"utf-8\" /></head>\n",
              "<body>\n",
              "    <div>            <script src=\"https://cdnjs.cloudflare.com/ajax/libs/mathjax/2.7.5/MathJax.js?config=TeX-AMS-MML_SVG\"></script><script type=\"text/javascript\">if (window.MathJax && window.MathJax.Hub && window.MathJax.Hub.Config) {window.MathJax.Hub.Config({SVG: {font: \"STIX-Web\"}});}</script>                <script type=\"text/javascript\">window.PlotlyConfig = {MathJaxConfig: 'local'};</script>\n",
              "        <script charset=\"utf-8\" src=\"https://cdn.plot.ly/plotly-2.35.2.min.js\"></script>                <div id=\"b78856b4-ffe6-49df-afae-ba6f1f8e4da5\" class=\"plotly-graph-div\" style=\"height:525px; width:100%;\"></div>            <script type=\"text/javascript\">                                    window.PLOTLYENV=window.PLOTLYENV || {};                                    if (document.getElementById(\"b78856b4-ffe6-49df-afae-ba6f1f8e4da5\")) {                    Plotly.newPlot(                        \"b78856b4-ffe6-49df-afae-ba6f1f8e4da5\",                        [{\"cliponaxis\":false,\"hovertemplate\":[\"max_depth (IntDistribution): 0.00012548556569720503\\u003cextra\\u003e\\u003c\\u002fextra\\u003e\",\"n_estimators (IntDistribution): 0.000739709332118869\\u003cextra\\u003e\\u003c\\u002fextra\\u003e\",\"min_samples_split (IntDistribution): 0.007454927696658076\\u003cextra\\u003e\\u003c\\u002fextra\\u003e\",\"min_samples_leaf (IntDistribution): 0.9916798774055258\\u003cextra\\u003e\\u003c\\u002fextra\\u003e\"],\"name\":\"Objective Value\",\"orientation\":\"h\",\"text\":[\"\\u003c0.01\",\"\\u003c0.01\",\"\\u003c0.01\",\"0.99\"],\"textposition\":\"outside\",\"x\":[0.00012548556569720503,0.000739709332118869,0.007454927696658076,0.9916798774055258],\"y\":[\"max_depth\",\"n_estimators\",\"min_samples_split\",\"min_samples_leaf\"],\"type\":\"bar\"}],                        {\"title\":{\"text\":\"Hyperparameter Importances\"},\"xaxis\":{\"title\":{\"text\":\"Hyperparameter Importance\"}},\"yaxis\":{\"title\":{\"text\":\"Hyperparameter\"}},\"template\":{\"data\":{\"histogram2dcontour\":[{\"type\":\"histogram2dcontour\",\"colorbar\":{\"outlinewidth\":0,\"ticks\":\"\"},\"colorscale\":[[0.0,\"#0d0887\"],[0.1111111111111111,\"#46039f\"],[0.2222222222222222,\"#7201a8\"],[0.3333333333333333,\"#9c179e\"],[0.4444444444444444,\"#bd3786\"],[0.5555555555555556,\"#d8576b\"],[0.6666666666666666,\"#ed7953\"],[0.7777777777777778,\"#fb9f3a\"],[0.8888888888888888,\"#fdca26\"],[1.0,\"#f0f921\"]]}],\"choropleth\":[{\"type\":\"choropleth\",\"colorbar\":{\"outlinewidth\":0,\"ticks\":\"\"}}],\"histogram2d\":[{\"type\":\"histogram2d\",\"colorbar\":{\"outlinewidth\":0,\"ticks\":\"\"},\"colorscale\":[[0.0,\"#0d0887\"],[0.1111111111111111,\"#46039f\"],[0.2222222222222222,\"#7201a8\"],[0.3333333333333333,\"#9c179e\"],[0.4444444444444444,\"#bd3786\"],[0.5555555555555556,\"#d8576b\"],[0.6666666666666666,\"#ed7953\"],[0.7777777777777778,\"#fb9f3a\"],[0.8888888888888888,\"#fdca26\"],[1.0,\"#f0f921\"]]}],\"heatmap\":[{\"type\":\"heatmap\",\"colorbar\":{\"outlinewidth\":0,\"ticks\":\"\"},\"colorscale\":[[0.0,\"#0d0887\"],[0.1111111111111111,\"#46039f\"],[0.2222222222222222,\"#7201a8\"],[0.3333333333333333,\"#9c179e\"],[0.4444444444444444,\"#bd3786\"],[0.5555555555555556,\"#d8576b\"],[0.6666666666666666,\"#ed7953\"],[0.7777777777777778,\"#fb9f3a\"],[0.8888888888888888,\"#fdca26\"],[1.0,\"#f0f921\"]]}],\"heatmapgl\":[{\"type\":\"heatmapgl\",\"colorbar\":{\"outlinewidth\":0,\"ticks\":\"\"},\"colorscale\":[[0.0,\"#0d0887\"],[0.1111111111111111,\"#46039f\"],[0.2222222222222222,\"#7201a8\"],[0.3333333333333333,\"#9c179e\"],[0.4444444444444444,\"#bd3786\"],[0.5555555555555556,\"#d8576b\"],[0.6666666666666666,\"#ed7953\"],[0.7777777777777778,\"#fb9f3a\"],[0.8888888888888888,\"#fdca26\"],[1.0,\"#f0f921\"]]}],\"contourcarpet\":[{\"type\":\"contourcarpet\",\"colorbar\":{\"outlinewidth\":0,\"ticks\":\"\"}}],\"contour\":[{\"type\":\"contour\",\"colorbar\":{\"outlinewidth\":0,\"ticks\":\"\"},\"colorscale\":[[0.0,\"#0d0887\"],[0.1111111111111111,\"#46039f\"],[0.2222222222222222,\"#7201a8\"],[0.3333333333333333,\"#9c179e\"],[0.4444444444444444,\"#bd3786\"],[0.5555555555555556,\"#d8576b\"],[0.6666666666666666,\"#ed7953\"],[0.7777777777777778,\"#fb9f3a\"],[0.8888888888888888,\"#fdca26\"],[1.0,\"#f0f921\"]]}],\"surface\":[{\"type\":\"surface\",\"colorbar\":{\"outlinewidth\":0,\"ticks\":\"\"},\"colorscale\":[[0.0,\"#0d0887\"],[0.1111111111111111,\"#46039f\"],[0.2222222222222222,\"#7201a8\"],[0.3333333333333333,\"#9c179e\"],[0.4444444444444444,\"#bd3786\"],[0.5555555555555556,\"#d8576b\"],[0.6666666666666666,\"#ed7953\"],[0.7777777777777778,\"#fb9f3a\"],[0.8888888888888888,\"#fdca26\"],[1.0,\"#f0f921\"]]}],\"mesh3d\":[{\"type\":\"mesh3d\",\"colorbar\":{\"outlinewidth\":0,\"ticks\":\"\"}}],\"scatter\":[{\"fillpattern\":{\"fillmode\":\"overlay\",\"size\":10,\"solidity\":0.2},\"type\":\"scatter\"}],\"parcoords\":[{\"type\":\"parcoords\",\"line\":{\"colorbar\":{\"outlinewidth\":0,\"ticks\":\"\"}}}],\"scatterpolargl\":[{\"type\":\"scatterpolargl\",\"marker\":{\"colorbar\":{\"outlinewidth\":0,\"ticks\":\"\"}}}],\"bar\":[{\"error_x\":{\"color\":\"#2a3f5f\"},\"error_y\":{\"color\":\"#2a3f5f\"},\"marker\":{\"line\":{\"color\":\"#E5ECF6\",\"width\":0.5},\"pattern\":{\"fillmode\":\"overlay\",\"size\":10,\"solidity\":0.2}},\"type\":\"bar\"}],\"scattergeo\":[{\"type\":\"scattergeo\",\"marker\":{\"colorbar\":{\"outlinewidth\":0,\"ticks\":\"\"}}}],\"scatterpolar\":[{\"type\":\"scatterpolar\",\"marker\":{\"colorbar\":{\"outlinewidth\":0,\"ticks\":\"\"}}}],\"histogram\":[{\"marker\":{\"pattern\":{\"fillmode\":\"overlay\",\"size\":10,\"solidity\":0.2}},\"type\":\"histogram\"}],\"scattergl\":[{\"type\":\"scattergl\",\"marker\":{\"colorbar\":{\"outlinewidth\":0,\"ticks\":\"\"}}}],\"scatter3d\":[{\"type\":\"scatter3d\",\"line\":{\"colorbar\":{\"outlinewidth\":0,\"ticks\":\"\"}},\"marker\":{\"colorbar\":{\"outlinewidth\":0,\"ticks\":\"\"}}}],\"scattermapbox\":[{\"type\":\"scattermapbox\",\"marker\":{\"colorbar\":{\"outlinewidth\":0,\"ticks\":\"\"}}}],\"scatterternary\":[{\"type\":\"scatterternary\",\"marker\":{\"colorbar\":{\"outlinewidth\":0,\"ticks\":\"\"}}}],\"scattercarpet\":[{\"type\":\"scattercarpet\",\"marker\":{\"colorbar\":{\"outlinewidth\":0,\"ticks\":\"\"}}}],\"carpet\":[{\"aaxis\":{\"endlinecolor\":\"#2a3f5f\",\"gridcolor\":\"white\",\"linecolor\":\"white\",\"minorgridcolor\":\"white\",\"startlinecolor\":\"#2a3f5f\"},\"baxis\":{\"endlinecolor\":\"#2a3f5f\",\"gridcolor\":\"white\",\"linecolor\":\"white\",\"minorgridcolor\":\"white\",\"startlinecolor\":\"#2a3f5f\"},\"type\":\"carpet\"}],\"table\":[{\"cells\":{\"fill\":{\"color\":\"#EBF0F8\"},\"line\":{\"color\":\"white\"}},\"header\":{\"fill\":{\"color\":\"#C8D4E3\"},\"line\":{\"color\":\"white\"}},\"type\":\"table\"}],\"barpolar\":[{\"marker\":{\"line\":{\"color\":\"#E5ECF6\",\"width\":0.5},\"pattern\":{\"fillmode\":\"overlay\",\"size\":10,\"solidity\":0.2}},\"type\":\"barpolar\"}],\"pie\":[{\"automargin\":true,\"type\":\"pie\"}]},\"layout\":{\"autotypenumbers\":\"strict\",\"colorway\":[\"#636efa\",\"#EF553B\",\"#00cc96\",\"#ab63fa\",\"#FFA15A\",\"#19d3f3\",\"#FF6692\",\"#B6E880\",\"#FF97FF\",\"#FECB52\"],\"font\":{\"color\":\"#2a3f5f\"},\"hovermode\":\"closest\",\"hoverlabel\":{\"align\":\"left\"},\"paper_bgcolor\":\"white\",\"plot_bgcolor\":\"#E5ECF6\",\"polar\":{\"bgcolor\":\"#E5ECF6\",\"angularaxis\":{\"gridcolor\":\"white\",\"linecolor\":\"white\",\"ticks\":\"\"},\"radialaxis\":{\"gridcolor\":\"white\",\"linecolor\":\"white\",\"ticks\":\"\"}},\"ternary\":{\"bgcolor\":\"#E5ECF6\",\"aaxis\":{\"gridcolor\":\"white\",\"linecolor\":\"white\",\"ticks\":\"\"},\"baxis\":{\"gridcolor\":\"white\",\"linecolor\":\"white\",\"ticks\":\"\"},\"caxis\":{\"gridcolor\":\"white\",\"linecolor\":\"white\",\"ticks\":\"\"}},\"coloraxis\":{\"colorbar\":{\"outlinewidth\":0,\"ticks\":\"\"}},\"colorscale\":{\"sequential\":[[0.0,\"#0d0887\"],[0.1111111111111111,\"#46039f\"],[0.2222222222222222,\"#7201a8\"],[0.3333333333333333,\"#9c179e\"],[0.4444444444444444,\"#bd3786\"],[0.5555555555555556,\"#d8576b\"],[0.6666666666666666,\"#ed7953\"],[0.7777777777777778,\"#fb9f3a\"],[0.8888888888888888,\"#fdca26\"],[1.0,\"#f0f921\"]],\"sequentialminus\":[[0.0,\"#0d0887\"],[0.1111111111111111,\"#46039f\"],[0.2222222222222222,\"#7201a8\"],[0.3333333333333333,\"#9c179e\"],[0.4444444444444444,\"#bd3786\"],[0.5555555555555556,\"#d8576b\"],[0.6666666666666666,\"#ed7953\"],[0.7777777777777778,\"#fb9f3a\"],[0.8888888888888888,\"#fdca26\"],[1.0,\"#f0f921\"]],\"diverging\":[[0,\"#8e0152\"],[0.1,\"#c51b7d\"],[0.2,\"#de77ae\"],[0.3,\"#f1b6da\"],[0.4,\"#fde0ef\"],[0.5,\"#f7f7f7\"],[0.6,\"#e6f5d0\"],[0.7,\"#b8e186\"],[0.8,\"#7fbc41\"],[0.9,\"#4d9221\"],[1,\"#276419\"]]},\"xaxis\":{\"gridcolor\":\"white\",\"linecolor\":\"white\",\"ticks\":\"\",\"title\":{\"standoff\":15},\"zerolinecolor\":\"white\",\"automargin\":true,\"zerolinewidth\":2},\"yaxis\":{\"gridcolor\":\"white\",\"linecolor\":\"white\",\"ticks\":\"\",\"title\":{\"standoff\":15},\"zerolinecolor\":\"white\",\"automargin\":true,\"zerolinewidth\":2},\"scene\":{\"xaxis\":{\"backgroundcolor\":\"#E5ECF6\",\"gridcolor\":\"white\",\"linecolor\":\"white\",\"showbackground\":true,\"ticks\":\"\",\"zerolinecolor\":\"white\",\"gridwidth\":2},\"yaxis\":{\"backgroundcolor\":\"#E5ECF6\",\"gridcolor\":\"white\",\"linecolor\":\"white\",\"showbackground\":true,\"ticks\":\"\",\"zerolinecolor\":\"white\",\"gridwidth\":2},\"zaxis\":{\"backgroundcolor\":\"#E5ECF6\",\"gridcolor\":\"white\",\"linecolor\":\"white\",\"showbackground\":true,\"ticks\":\"\",\"zerolinecolor\":\"white\",\"gridwidth\":2}},\"shapedefaults\":{\"line\":{\"color\":\"#2a3f5f\"}},\"annotationdefaults\":{\"arrowcolor\":\"#2a3f5f\",\"arrowhead\":0,\"arrowwidth\":1},\"geo\":{\"bgcolor\":\"white\",\"landcolor\":\"#E5ECF6\",\"subunitcolor\":\"white\",\"showland\":true,\"showlakes\":true,\"lakecolor\":\"white\"},\"title\":{\"x\":0.05},\"mapbox\":{\"style\":\"light\"}}}},                        {\"responsive\": true}                    ).then(function(){\n",
              "                            \n",
              "var gd = document.getElementById('b78856b4-ffe6-49df-afae-ba6f1f8e4da5');\n",
              "var x = new MutationObserver(function (mutations, observer) {{\n",
              "        var display = window.getComputedStyle(gd).display;\n",
              "        if (!display || display === 'none') {{\n",
              "            console.log([gd, 'removed!']);\n",
              "            Plotly.purge(gd);\n",
              "            observer.disconnect();\n",
              "        }}\n",
              "}});\n",
              "\n",
              "// Listen for the removal of the full notebook cells\n",
              "var notebookContainer = gd.closest('#notebook-container');\n",
              "if (notebookContainer) {{\n",
              "    x.observe(notebookContainer, {childList: true});\n",
              "}}\n",
              "\n",
              "// Listen for the clearing of the current output cell\n",
              "var outputEl = gd.closest('.output');\n",
              "if (outputEl) {{\n",
              "    x.observe(outputEl, {childList: true});\n",
              "}}\n",
              "\n",
              "                        })                };                            </script>        </div>\n",
              "</body>\n",
              "</html>"
            ]
          },
          "metadata": {}
        }
      ]
    },
    {
      "cell_type": "code",
      "source": [],
      "metadata": {
        "id": "G_najGA84EEC"
      },
      "execution_count": null,
      "outputs": []
    }
  ]
}